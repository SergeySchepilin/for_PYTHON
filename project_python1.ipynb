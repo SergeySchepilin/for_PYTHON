{
 "cells": [
  {
   "cell_type": "markdown",
   "metadata": {},
   "source": [
    "<div class=\"alert alert-block alert-warning\">\n",
    "\n",
    "### Гипотеза 1\n",
    "\n",
    "По идее, должна быть разница в поведении групп, которые проходят и не проходят обучение. Но так ли это? Влияет ли обучение на скорость прохождения других этапов игры?\n",
    "### Гипотеза 2\n",
    "\n",
    "Кажется, повторное прохождение обучения положительно влияет на оплату, верно?\n",
    "### Гипотеза 3\n",
    "\n",
    "Если пользователь сначала выбирает сложность обучения, будет ли он потом проходить обучение?\n",
    "</div>"
   ]
  },
  {
   "cell_type": "markdown",
   "metadata": {},
   "source": [
    "<div class=\"alert alert-block alert-warning\">\n",
    "\n",
    "### Задачи:\n",
    "### Определить, насколько обучение сокращает время прохождения этапов игры.\n",
    "### Доказать, что успешное обучение само по себе влияет на оплату и не имеет значения то, каким этапом оно шло.\n",
    "### Определить, насколько прозрачен процесс взаимодействия с игрой.\n",
    "\n",
    "</div>"
   ]
  },
  {
   "cell_type": "code",
   "execution_count": 926,
   "metadata": {},
   "outputs": [],
   "source": [
    "#  загружаем данные\n",
    "import numpy as np\n",
    "import pandas as pd\n",
    "import matplotlib.pyplot as plt\n",
    "%matplotlib inline\n",
    "import seaborn as sns\n",
    "\n",
    "events_df = pd.read_csv('data/Events.csv')\n",
    "purchase_df = pd.read_csv('data/purchase.csv')"
   ]
  },
  {
   "cell_type": "markdown",
   "metadata": {},
   "source": [
    "### готовим таблицу events_df"
   ]
  },
  {
   "cell_type": "code",
   "execution_count": 927,
   "metadata": {},
   "outputs": [
    {
     "name": "stdout",
     "output_type": "stream",
     "text": [
      "<class 'pandas.core.frame.DataFrame'>\n",
      "Int64Index: 66959 entries, 51405 to 118364\n",
      "Data columns (total 6 columns):\n",
      " #   Column          Non-Null Count  Dtype  \n",
      "---  ------          --------------  -----  \n",
      " 0   id              66959 non-null  int64  \n",
      " 1   event_type      66959 non-null  object \n",
      " 2   selected_level  8342 non-null   object \n",
      " 3   start_time      66959 non-null  object \n",
      " 4   tutorial_id     32954 non-null  float64\n",
      " 5   user_id         66959 non-null  int64  \n",
      "dtypes: float64(1), int64(2), object(3)\n",
      "memory usage: 3.6+ MB\n"
     ]
    }
   ],
   "source": [
    "# фильтруем по условию: пользователи, зарегистрировавшиеся в 2018 году\n",
    "mask = (events_df.start_time >= '2018-01-01') & (events_df.start_time < '2019-01-01') & (events_df.event_type == 'registration')\n",
    "b_list = events_df[mask].user_id.unique() # список уникальных пользователей за 2018 год\n",
    "events_2018 = events_df[events_df.user_id.isin(b_list)] # датафрейм событий\n",
    "events_2018.info()"
   ]
  },
  {
   "cell_type": "markdown",
   "metadata": {},
   "source": [
    "### готовим таблицу purchase_df"
   ]
  },
  {
   "cell_type": "code",
   "execution_count": 928,
   "metadata": {},
   "outputs": [
    {
     "name": "stdout",
     "output_type": "stream",
     "text": [
      "<class 'pandas.core.frame.DataFrame'>\n",
      "Int64Index: 1600 entries, 1171 to 2778\n",
      "Data columns (total 4 columns):\n",
      " #   Column          Non-Null Count  Dtype \n",
      "---  ------          --------------  ----- \n",
      " 0   id              1600 non-null   int64 \n",
      " 1   user_id         1600 non-null   int64 \n",
      " 2   event_datetime  1600 non-null   object\n",
      " 3   amount          1600 non-null   int64 \n",
      "dtypes: int64(3), object(1)\n",
      "memory usage: 62.5+ KB\n"
     ]
    }
   ],
   "source": [
    "purchase_2018 = purchase_df[purchase_df.user_id.isin(b_list)] # оставим пользователей за 2018 год\n",
    "# датафрейм оплат\n",
    "purchase_2018.info()"
   ]
  },
  {
   "cell_type": "markdown",
   "metadata": {},
   "source": [
    "### готовим общую таблицу событий и оплат"
   ]
  },
  {
   "cell_type": "code",
   "execution_count": 929,
   "metadata": {},
   "outputs": [
    {
     "data": {
      "text/html": [
       "<div>\n",
       "<style scoped>\n",
       "    .dataframe tbody tr th:only-of-type {\n",
       "        vertical-align: middle;\n",
       "    }\n",
       "\n",
       "    .dataframe tbody tr th {\n",
       "        vertical-align: top;\n",
       "    }\n",
       "\n",
       "    .dataframe thead th {\n",
       "        text-align: right;\n",
       "    }\n",
       "</style>\n",
       "<table border=\"1\" class=\"dataframe\">\n",
       "  <thead>\n",
       "    <tr style=\"text-align: right;\">\n",
       "      <th></th>\n",
       "      <th>event_id</th>\n",
       "      <th>event_type</th>\n",
       "      <th>selected_level</th>\n",
       "      <th>start_time</th>\n",
       "      <th>tutorial_id</th>\n",
       "      <th>user_id</th>\n",
       "      <th>purchase_id</th>\n",
       "      <th>amount</th>\n",
       "    </tr>\n",
       "  </thead>\n",
       "  <tbody>\n",
       "    <tr>\n",
       "      <th>0</th>\n",
       "      <td>80308.0</td>\n",
       "      <td>registration</td>\n",
       "      <td>NaN</td>\n",
       "      <td>2018-01-01 03:48:40</td>\n",
       "      <td>NaN</td>\n",
       "      <td>27832</td>\n",
       "      <td>NaN</td>\n",
       "      <td>NaN</td>\n",
       "    </tr>\n",
       "    <tr>\n",
       "      <th>1</th>\n",
       "      <td>80309.0</td>\n",
       "      <td>registration</td>\n",
       "      <td>NaN</td>\n",
       "      <td>2018-01-01 04:07:25</td>\n",
       "      <td>NaN</td>\n",
       "      <td>27833</td>\n",
       "      <td>NaN</td>\n",
       "      <td>NaN</td>\n",
       "    </tr>\n",
       "    <tr>\n",
       "      <th>2</th>\n",
       "      <td>80310.0</td>\n",
       "      <td>registration</td>\n",
       "      <td>NaN</td>\n",
       "      <td>2018-01-01 08:35:10</td>\n",
       "      <td>NaN</td>\n",
       "      <td>27834</td>\n",
       "      <td>NaN</td>\n",
       "      <td>NaN</td>\n",
       "    </tr>\n",
       "    <tr>\n",
       "      <th>3</th>\n",
       "      <td>80311.0</td>\n",
       "      <td>registration</td>\n",
       "      <td>NaN</td>\n",
       "      <td>2018-01-01 11:54:47</td>\n",
       "      <td>NaN</td>\n",
       "      <td>27835</td>\n",
       "      <td>NaN</td>\n",
       "      <td>NaN</td>\n",
       "    </tr>\n",
       "    <tr>\n",
       "      <th>4</th>\n",
       "      <td>80312.0</td>\n",
       "      <td>registration</td>\n",
       "      <td>NaN</td>\n",
       "      <td>2018-01-01 13:28:07</td>\n",
       "      <td>NaN</td>\n",
       "      <td>27836</td>\n",
       "      <td>NaN</td>\n",
       "      <td>NaN</td>\n",
       "    </tr>\n",
       "  </tbody>\n",
       "</table>\n",
       "</div>"
      ],
      "text/plain": [
       "   event_id    event_type selected_level          start_time  tutorial_id  \\\n",
       "0   80308.0  registration            NaN 2018-01-01 03:48:40          NaN   \n",
       "1   80309.0  registration            NaN 2018-01-01 04:07:25          NaN   \n",
       "2   80310.0  registration            NaN 2018-01-01 08:35:10          NaN   \n",
       "3   80311.0  registration            NaN 2018-01-01 11:54:47          NaN   \n",
       "4   80312.0  registration            NaN 2018-01-01 13:28:07          NaN   \n",
       "\n",
       "   user_id  purchase_id  amount  \n",
       "0    27832          NaN     NaN  \n",
       "1    27833          NaN     NaN  \n",
       "2    27834          NaN     NaN  \n",
       "3    27835          NaN     NaN  \n",
       "4    27836          NaN     NaN  "
      ]
     },
     "metadata": {},
     "output_type": "display_data"
    },
    {
     "name": "stdout",
     "output_type": "stream",
     "text": [
      "<class 'pandas.core.frame.DataFrame'>\n",
      "Int64Index: 68559 entries, 0 to 68558\n",
      "Data columns (total 8 columns):\n",
      " #   Column          Non-Null Count  Dtype         \n",
      "---  ------          --------------  -----         \n",
      " 0   event_id        66959 non-null  float64       \n",
      " 1   event_type      68559 non-null  object        \n",
      " 2   selected_level  8342 non-null   object        \n",
      " 3   start_time      68559 non-null  datetime64[ns]\n",
      " 4   tutorial_id     32954 non-null  float64       \n",
      " 5   user_id         68559 non-null  int64         \n",
      " 6   purchase_id     1600 non-null   float64       \n",
      " 7   amount          1600 non-null   float64       \n",
      "dtypes: datetime64[ns](1), float64(4), int64(1), object(2)\n",
      "memory usage: 4.7+ MB\n"
     ]
    }
   ],
   "source": [
    "# преобразуем столбцы для объединения таблиц по строкам\n",
    "events_2018 = events_2018.rename(columns={\"id\": \"event_id\"})\n",
    "purchase_2018 = purchase_2018.rename(columns={\"id\": \"purchase_id\", \"event_datetime\": \"start_time\"})\n",
    "\n",
    "# добавляем признак оплат\n",
    "purchase_2018['event_type'] = 'purchase'\n",
    "\n",
    "# объединяем и сортируем, также сбрасываем индексы\n",
    "total_events_2018 = pd.concat([events_2018,purchase_2018],sort=False)\n",
    "total_events_2018 = total_events_2018.reset_index(drop=True).sort_values('start_time')\n",
    "total_events_2018.start_time = pd.to_datetime(total_events_2018.start_time) # преобразуем столбец дат в тип данных: datetime\n",
    "\n",
    "display(total_events_2018.head())\n",
    "total_events_2018.info()"
   ]
  },
  {
   "cell_type": "code",
   "execution_count": 930,
   "metadata": {},
   "outputs": [
    {
     "data": {
      "text/html": [
       "<div>\n",
       "<style scoped>\n",
       "    .dataframe tbody tr th:only-of-type {\n",
       "        vertical-align: middle;\n",
       "    }\n",
       "\n",
       "    .dataframe tbody tr th {\n",
       "        vertical-align: top;\n",
       "    }\n",
       "\n",
       "    .dataframe thead th {\n",
       "        text-align: right;\n",
       "    }\n",
       "</style>\n",
       "<table border=\"1\" class=\"dataframe\">\n",
       "  <thead>\n",
       "    <tr style=\"text-align: right;\">\n",
       "      <th></th>\n",
       "      <th>event_id</th>\n",
       "      <th>tutorial_id</th>\n",
       "      <th>user_id</th>\n",
       "      <th>purchase_id</th>\n",
       "      <th>amount</th>\n",
       "    </tr>\n",
       "  </thead>\n",
       "  <tbody>\n",
       "    <tr>\n",
       "      <th>count</th>\n",
       "      <td>66959.000000</td>\n",
       "      <td>32954.000000</td>\n",
       "      <td>68559.000000</td>\n",
       "      <td>1600.000000</td>\n",
       "      <td>1600.000000</td>\n",
       "    </tr>\n",
       "    <tr>\n",
       "      <th>mean</th>\n",
       "      <td>113787.000045</td>\n",
       "      <td>40532.934393</td>\n",
       "      <td>37780.871775</td>\n",
       "      <td>17645.505625</td>\n",
       "      <td>110.734375</td>\n",
       "    </tr>\n",
       "    <tr>\n",
       "      <th>std</th>\n",
       "      <td>19329.542752</td>\n",
       "      <td>5213.486632</td>\n",
       "      <td>5753.126469</td>\n",
       "      <td>462.038637</td>\n",
       "      <td>54.696628</td>\n",
       "    </tr>\n",
       "    <tr>\n",
       "      <th>min</th>\n",
       "      <td>80308.000000</td>\n",
       "      <td>31505.000000</td>\n",
       "      <td>27832.000000</td>\n",
       "      <td>16845.000000</td>\n",
       "      <td>25.000000</td>\n",
       "    </tr>\n",
       "    <tr>\n",
       "      <th>25%</th>\n",
       "      <td>97047.500000</td>\n",
       "      <td>36008.250000</td>\n",
       "      <td>32848.500000</td>\n",
       "      <td>17245.750000</td>\n",
       "      <td>50.000000</td>\n",
       "    </tr>\n",
       "    <tr>\n",
       "      <th>50%</th>\n",
       "      <td>113787.000000</td>\n",
       "      <td>40529.500000</td>\n",
       "      <td>37717.000000</td>\n",
       "      <td>17645.500000</td>\n",
       "      <td>100.000000</td>\n",
       "    </tr>\n",
       "    <tr>\n",
       "      <th>75%</th>\n",
       "      <td>130526.500000</td>\n",
       "      <td>45057.750000</td>\n",
       "      <td>42742.500000</td>\n",
       "      <td>18045.250000</td>\n",
       "      <td>150.000000</td>\n",
       "    </tr>\n",
       "    <tr>\n",
       "      <th>max</th>\n",
       "      <td>147267.000000</td>\n",
       "      <td>49554.000000</td>\n",
       "      <td>47757.000000</td>\n",
       "      <td>18452.000000</td>\n",
       "      <td>300.000000</td>\n",
       "    </tr>\n",
       "  </tbody>\n",
       "</table>\n",
       "</div>"
      ],
      "text/plain": [
       "            event_id   tutorial_id       user_id   purchase_id       amount\n",
       "count   66959.000000  32954.000000  68559.000000   1600.000000  1600.000000\n",
       "mean   113787.000045  40532.934393  37780.871775  17645.505625   110.734375\n",
       "std     19329.542752   5213.486632   5753.126469    462.038637    54.696628\n",
       "min     80308.000000  31505.000000  27832.000000  16845.000000    25.000000\n",
       "25%     97047.500000  36008.250000  32848.500000  17245.750000    50.000000\n",
       "50%    113787.000000  40529.500000  37717.000000  17645.500000   100.000000\n",
       "75%    130526.500000  45057.750000  42742.500000  18045.250000   150.000000\n",
       "max    147267.000000  49554.000000  47757.000000  18452.000000   300.000000"
      ]
     },
     "execution_count": 930,
     "metadata": {},
     "output_type": "execute_result"
    }
   ],
   "source": [
    "total_events_2018.describe()"
   ]
  },
  {
   "cell_type": "markdown",
   "metadata": {},
   "source": [
    "###  Задача 1 - Определить, насколько обучение сокращает время прохождения этапов игры.\n",
    "Чтобы это понять, надо сравнить время прохождения различных этапов для пользователей, которые завершили обучение, и пользователей, не начинавших обучение. Если показатель отличается, выяснить, насколько"
   ]
  },
  {
   "cell_type": "code",
   "execution_count": 931,
   "metadata": {},
   "outputs": [
    {
     "data": {
      "text/plain": [
       "array(['registration', 'tutorial_start', 'tutorial_finish',\n",
       "       'level_choice', 'pack_choice', 'purchase'], dtype=object)"
      ]
     },
     "metadata": {},
     "output_type": "display_data"
    }
   ],
   "source": [
    "x = total_events_2018['event_type'].unique()\n",
    "display(x) # события в event_type"
   ]
  },
  {
   "cell_type": "code",
   "execution_count": 932,
   "metadata": {},
   "outputs": [],
   "source": [
    "# Делим датафреймы на два\n",
    "users_tutorial_finish = total_events_2018[total_events_2018[\"event_type\"] == \"tutorial_finish\"].user_id.unique() # пользователи, закончившие обучение\n",
    "users_tutorial_start = total_events_2018[total_events_2018[\"event_type\"] == \"tutorial_start\"].user_id.unique() # пользователи, начавшие обучение\n",
    "\n",
    "users_without_tutorial1 = total_events_2018.user_id.apply(lambda x: x if x not in users_tutorial_start else False) \n",
    "users_without_tutorial = users_without_tutorial1[users_without_tutorial1 != False].to_list() # пользователи, не начинавшие обучение\n",
    "\n",
    "total_events_whith = total_events_2018[total_events_2018.user_id.isin(users_tutorial_finish)] # датафрейм пользователей с обучением\n",
    "\n",
    "total_events_whithout = total_events_2018[total_events_2018.user_id.isin(users_without_tutorial)] # датафрейм пользователей без обучения\n"
   ]
  },
  {
   "cell_type": "markdown",
   "metadata": {},
   "source": [
    "### начнём с пользователей, завершивших обучение"
   ]
  },
  {
   "cell_type": "code",
   "execution_count": 933,
   "metadata": {},
   "outputs": [
    {
     "name": "stdout",
     "output_type": "stream",
     "text": [
      "каждый пользователь покупает 1 раз? True\n",
      "каждый пользователь выбирает пакет 1 раз? True\n",
      "каждый пользователь выбирает сложность 1 раз? True\n"
     ]
    }
   ],
   "source": [
    "# готовим датафреймы\n",
    "registration_df = total_events_whith[total_events_whith['event_type'] == 'registration'][['user_id','start_time']]\n",
    "\n",
    "level_choice_df = total_events_whith[total_events_whith['event_type'] == 'level_choice'][['user_id','start_time']].sort_values('start_time').drop_duplicates('user_id')\n",
    "level_choice_df = level_choice_df.rename(columns = {'start_time' : 'level_choice_time'}) # датафрейм со временем выбора уровня сложности\n",
    "\n",
    "pack_choice_df = total_events_whith[total_events_whith['event_type'] == 'pack_choice'][['user_id','start_time']].sort_values('start_time').drop_duplicates('user_id')\n",
    "pack_choice_df = pack_choice_df.rename(columns = {'start_time' : 'pack_choice_time'}) # датафрейм со временем выбора бесплатного пакета вопросов\n",
    "\n",
    "purchase = total_events_whith[total_events_whith['event_type'] == 'purchase'][['user_id','start_time']]\n",
    "purchase = purchase.rename(columns = {'start_time' : 'purchase_time'}) # датафрейм со временем оплат\n",
    "\n",
    "print(\"каждый пользователь покупает 1 раз?\", purchase.user_id.count() == purchase.user_id.nunique())\n",
    "print(\"каждый пользователь выбирает пакет 1 раз?\", pack_choice_df.user_id.count() == pack_choice_df.user_id.nunique())\n",
    "print(\"каждый пользователь выбирает сложность 1 раз?\", level_choice_df.user_id.count() == level_choice_df.user_id.nunique())"
   ]
  },
  {
   "cell_type": "markdown",
   "metadata": {},
   "source": [
    "### Соединяем датафреймы"
   ]
  },
  {
   "cell_type": "code",
   "execution_count": 934,
   "metadata": {},
   "outputs": [
    {
     "data": {
      "text/html": [
       "<div>\n",
       "<style scoped>\n",
       "    .dataframe tbody tr th:only-of-type {\n",
       "        vertical-align: middle;\n",
       "    }\n",
       "\n",
       "    .dataframe tbody tr th {\n",
       "        vertical-align: top;\n",
       "    }\n",
       "\n",
       "    .dataframe thead th {\n",
       "        text-align: right;\n",
       "    }\n",
       "</style>\n",
       "<table border=\"1\" class=\"dataframe\">\n",
       "  <thead>\n",
       "    <tr style=\"text-align: right;\">\n",
       "      <th></th>\n",
       "      <th>user_id</th>\n",
       "      <th>start_time</th>\n",
       "      <th>level_choice_time</th>\n",
       "      <th>pack_choice_time</th>\n",
       "      <th>purchase_time</th>\n",
       "    </tr>\n",
       "  </thead>\n",
       "  <tbody>\n",
       "    <tr>\n",
       "      <th>0</th>\n",
       "      <td>27833</td>\n",
       "      <td>2018-01-01 04:07:25</td>\n",
       "      <td>NaT</td>\n",
       "      <td>NaT</td>\n",
       "      <td>NaT</td>\n",
       "    </tr>\n",
       "    <tr>\n",
       "      <th>1</th>\n",
       "      <td>27834</td>\n",
       "      <td>2018-01-01 08:35:10</td>\n",
       "      <td>NaT</td>\n",
       "      <td>NaT</td>\n",
       "      <td>NaT</td>\n",
       "    </tr>\n",
       "    <tr>\n",
       "      <th>2</th>\n",
       "      <td>27835</td>\n",
       "      <td>2018-01-01 11:54:47</td>\n",
       "      <td>2018-01-01 20:37:22</td>\n",
       "      <td>2018-01-01 20:38:43</td>\n",
       "      <td>NaT</td>\n",
       "    </tr>\n",
       "    <tr>\n",
       "      <th>3</th>\n",
       "      <td>27836</td>\n",
       "      <td>2018-01-01 13:28:07</td>\n",
       "      <td>NaT</td>\n",
       "      <td>NaT</td>\n",
       "      <td>NaT</td>\n",
       "    </tr>\n",
       "    <tr>\n",
       "      <th>4</th>\n",
       "      <td>27839</td>\n",
       "      <td>2018-01-01 18:24:01</td>\n",
       "      <td>2018-01-01 22:37:50</td>\n",
       "      <td>2018-01-01 22:42:54</td>\n",
       "      <td>NaT</td>\n",
       "    </tr>\n",
       "  </tbody>\n",
       "</table>\n",
       "</div>"
      ],
      "text/plain": [
       "   user_id          start_time   level_choice_time    pack_choice_time  \\\n",
       "0    27833 2018-01-01 04:07:25                 NaT                 NaT   \n",
       "1    27834 2018-01-01 08:35:10                 NaT                 NaT   \n",
       "2    27835 2018-01-01 11:54:47 2018-01-01 20:37:22 2018-01-01 20:38:43   \n",
       "3    27836 2018-01-01 13:28:07                 NaT                 NaT   \n",
       "4    27839 2018-01-01 18:24:01 2018-01-01 22:37:50 2018-01-01 22:42:54   \n",
       "\n",
       "  purchase_time  \n",
       "0           NaT  \n",
       "1           NaT  \n",
       "2           NaT  \n",
       "3           NaT  \n",
       "4           NaT  "
      ]
     },
     "execution_count": 934,
     "metadata": {},
     "output_type": "execute_result"
    }
   ],
   "source": [
    "total_df = registration_df.merge(level_choice_df, how = 'left', on = 'user_id')\n",
    "total_df = total_df.merge(pack_choice_df, how = 'left', on = 'user_id')\n",
    "total_df = total_df.merge(purchase, how = 'left', on = 'user_id')\n",
    "\n",
    "total_df.head()"
   ]
  },
  {
   "cell_type": "markdown",
   "metadata": {},
   "source": [
    "### готовим датафреймы пользователей, не начинавших обучение"
   ]
  },
  {
   "cell_type": "code",
   "execution_count": 935,
   "metadata": {},
   "outputs": [
    {
     "name": "stdout",
     "output_type": "stream",
     "text": [
      "каждый пользователь покупает 1 раз? True\n",
      "каждый пользователь выбирает пакет 1 раз? True\n",
      "каждый пользователь выбирает сложность 1 раз? True\n"
     ]
    }
   ],
   "source": [
    "# готовим датасеты аналогично предыдущим, но для пользователей без обучения\n",
    "registration_df1 = total_events_whithout[total_events_whithout['event_type'] == 'registration'][['user_id','start_time']]\n",
    "\n",
    "level_choice_df1 = total_events_whithout[total_events_whithout['event_type'] == 'level_choice'][['user_id','start_time']].sort_values('start_time').drop_duplicates('user_id')\n",
    "level_choice_df1 = level_choice_df1.rename(columns = {'start_time' : 'level_choice_time'})\n",
    "\n",
    "pack_choice_df1 = total_events_whithout[total_events_whithout['event_type'] == 'pack_choice'][['user_id','start_time']].sort_values('start_time').drop_duplicates('user_id')\n",
    "pack_choice_df1 = pack_choice_df1.rename(columns = {'start_time' : 'pack_choice_time'})\n",
    "\n",
    "purchase1 = total_events_whithout[total_events_whithout['event_type'] == 'purchase'][['user_id','start_time']]\n",
    "purchase1 = purchase1.rename(columns = {'start_time' : 'purchase_time'})\n",
    "\n",
    "# проверка\n",
    "print(\"каждый пользователь покупает 1 раз?\", purchase1.user_id.count() == purchase1.user_id.nunique())\n",
    "print(\"каждый пользователь выбирает пакет 1 раз?\", pack_choice_df1.user_id.count() == pack_choice_df1.user_id.nunique())\n",
    "print(\"каждый пользователь выбирает сложность 1 раз?\", level_choice_df1.user_id.count() == level_choice_df1.user_id.nunique())"
   ]
  },
  {
   "cell_type": "markdown",
   "metadata": {},
   "source": [
    "### Соединяем датафреймы"
   ]
  },
  {
   "cell_type": "code",
   "execution_count": 936,
   "metadata": {},
   "outputs": [
    {
     "data": {
      "text/plain": [
       "'воронка - пользователи без обучения'"
      ]
     },
     "metadata": {},
     "output_type": "display_data"
    },
    {
     "data": {
      "text/plain": [
       "user_id              8068\n",
       "start_time           8068\n",
       "level_choice_time      98\n",
       "pack_choice_time       74\n",
       "purchase_time          22\n",
       "gruop_without        8068\n",
       "dtype: int64"
      ]
     },
     "metadata": {},
     "output_type": "display_data"
    },
    {
     "data": {
      "text/plain": [
       "'воронка - пользователи с обучением'"
      ]
     },
     "metadata": {},
     "output_type": "display_data"
    },
    {
     "data": {
      "text/plain": [
       "user_id              10250\n",
       "start_time           10250\n",
       "level_choice_time     7501\n",
       "pack_choice_time      5176\n",
       "purchase_time         1447\n",
       "gruop_without        10250\n",
       "dtype: int64"
      ]
     },
     "metadata": {},
     "output_type": "display_data"
    }
   ],
   "source": [
    "total_df1 = registration_df1.merge(level_choice_df1, how = 'left', on = 'user_id')\n",
    "total_df1 = total_df1.merge(pack_choice_df1, how = 'left', on = 'user_id')\n",
    "total_df1 = total_df1.merge(purchase1, how = 'left', on = 'user_id')\n",
    "\n",
    "total_df1['gruop_without'] = 'no_tutorial' # присваиваем новый признак, без обучения и с обучением\n",
    "total_df['gruop_without'] = 'yes_tutorial'\n",
    "\n",
    "display( 'воронка - пользователи без обучения', total_df1.count(), \n",
    "      'воронка - пользователи с обучением',\n",
    "       total_df.count())\n",
    "\n",
    "vizual_df = total_df.count()\n",
    "vizual_df1 = total_df1.count()"
   ]
  },
  {
   "cell_type": "code",
   "execution_count": 937,
   "metadata": {},
   "outputs": [
    {
     "data": {
      "text/html": [
       "<div>\n",
       "<style scoped>\n",
       "    .dataframe tbody tr th:only-of-type {\n",
       "        vertical-align: middle;\n",
       "    }\n",
       "\n",
       "    .dataframe tbody tr th {\n",
       "        vertical-align: top;\n",
       "    }\n",
       "\n",
       "    .dataframe thead th {\n",
       "        text-align: right;\n",
       "    }\n",
       "</style>\n",
       "<table border=\"1\" class=\"dataframe\">\n",
       "  <thead>\n",
       "    <tr style=\"text-align: right;\">\n",
       "      <th></th>\n",
       "      <th>события</th>\n",
       "      <th>число пользователей</th>\n",
       "    </tr>\n",
       "  </thead>\n",
       "  <tbody>\n",
       "    <tr>\n",
       "      <th>1</th>\n",
       "      <td>start_time</td>\n",
       "      <td>10250</td>\n",
       "    </tr>\n",
       "    <tr>\n",
       "      <th>2</th>\n",
       "      <td>level_choice_time</td>\n",
       "      <td>7501</td>\n",
       "    </tr>\n",
       "    <tr>\n",
       "      <th>3</th>\n",
       "      <td>pack_choice_time</td>\n",
       "      <td>5176</td>\n",
       "    </tr>\n",
       "    <tr>\n",
       "      <th>4</th>\n",
       "      <td>purchase_time</td>\n",
       "      <td>1447</td>\n",
       "    </tr>\n",
       "  </tbody>\n",
       "</table>\n",
       "</div>"
      ],
      "text/plain": [
       "             события  число пользователей\n",
       "1         start_time                10250\n",
       "2  level_choice_time                 7501\n",
       "3   pack_choice_time                 5176\n",
       "4      purchase_time                 1447"
      ]
     },
     "metadata": {},
     "output_type": "display_data"
    },
    {
     "data": {
      "text/html": [
       "<div>\n",
       "<style scoped>\n",
       "    .dataframe tbody tr th:only-of-type {\n",
       "        vertical-align: middle;\n",
       "    }\n",
       "\n",
       "    .dataframe tbody tr th {\n",
       "        vertical-align: top;\n",
       "    }\n",
       "\n",
       "    .dataframe thead th {\n",
       "        text-align: right;\n",
       "    }\n",
       "</style>\n",
       "<table border=\"1\" class=\"dataframe\">\n",
       "  <thead>\n",
       "    <tr style=\"text-align: right;\">\n",
       "      <th></th>\n",
       "      <th>события</th>\n",
       "      <th>число пользователей</th>\n",
       "    </tr>\n",
       "  </thead>\n",
       "  <tbody>\n",
       "    <tr>\n",
       "      <th>1</th>\n",
       "      <td>start_time</td>\n",
       "      <td>8068</td>\n",
       "    </tr>\n",
       "    <tr>\n",
       "      <th>2</th>\n",
       "      <td>level_choice_time</td>\n",
       "      <td>98</td>\n",
       "    </tr>\n",
       "    <tr>\n",
       "      <th>3</th>\n",
       "      <td>pack_choice_time</td>\n",
       "      <td>74</td>\n",
       "    </tr>\n",
       "    <tr>\n",
       "      <th>4</th>\n",
       "      <td>purchase_time</td>\n",
       "      <td>22</td>\n",
       "    </tr>\n",
       "  </tbody>\n",
       "</table>\n",
       "</div>"
      ],
      "text/plain": [
       "             события  число пользователей\n",
       "1         start_time                 8068\n",
       "2  level_choice_time                   98\n",
       "3   pack_choice_time                   74\n",
       "4      purchase_time                   22"
      ]
     },
     "metadata": {},
     "output_type": "display_data"
    }
   ],
   "source": [
    "# готов датафреймы для визуализации данных\n",
    "\n",
    "vizual_df = pd.DataFrame(vizual_df, index = vizual_df.index)\n",
    "vizual_df = vizual_df.rename_axis('события').reset_index()\n",
    "vizual_df.columns = ['события', \"число пользователей\"]\n",
    "vizual_df = vizual_df.loc[1:4, :]\n",
    "\n",
    "vizual_df1 = pd.DataFrame(vizual_df1, index = vizual_df1.index)\n",
    "vizual_df1 = vizual_df1.rename_axis('события').reset_index()\n",
    "vizual_df1.columns = ['события', \"число пользователей\"]\n",
    "vizual_df1 = vizual_df1.loc[1:4, :]\n",
    "\n",
    "# здесь 'start_time' - время регистрации\n",
    "display(vizual_df)\n",
    "display(vizual_df1)"
   ]
  },
  {
   "cell_type": "markdown",
   "metadata": {},
   "source": [
    "### строим визуализацию воронки"
   ]
  },
  {
   "cell_type": "code",
   "execution_count": 938,
   "metadata": {},
   "outputs": [
    {
     "data": {
      "image/png": "[encoded data removed]",
      "text/plain": [
       "<Figure size 1500x300 with 2 Axes>"
      ]
     },
     "metadata": {},
     "output_type": "display_data"
    }
   ],
   "source": [
    "fig,axes = plt.subplots(1,2, figsize = (15,3))\n",
    "\n",
    "sns.barplot(\n",
    "    data=vizual_df,\n",
    "    x = 'события',\n",
    "    y = 'число пользователей',\n",
    "    orient='v',\n",
    "    width=0.3,\n",
    "    ax = axes[0]);\n",
    "\n",
    "axes[0].set_title('воронка событий (с обучением)')\n",
    "axes[0].set_xlabel('Группы')\n",
    "axes[0].grid()\n",
    "axes[0].xaxis.set_tick_params(rotation=30)\n",
    "    \n",
    "sns.barplot(\n",
    "    data=vizual_df1, \n",
    "    x = 'события',\n",
    "    y = 'число пользователей',\n",
    "    orient='v',\n",
    "    width=0.3,\n",
    "    ax = axes[1]);\n",
    "\n",
    "axes[1].set_title('воронка событий (без обучения)')\n",
    "axes[1].set_xlabel('Группы')\n",
    "axes[1].grid()\n",
    "axes[1].xaxis.set_tick_params(rotation=30)\n",
    "\n",
    "# start_time - время регистрации, обязательный для всех параметр"
   ]
  },
  {
   "cell_type": "markdown",
   "metadata": {},
   "source": [
    "### как видно, воронка больше у группы пользователей, которые завершили обучение!"
   ]
  },
  {
   "cell_type": "code",
   "execution_count": 939,
   "metadata": {},
   "outputs": [
    {
     "name": "stdout",
     "output_type": "stream",
     "text": [
      "<class 'pandas.core.frame.DataFrame'>\n",
      "Int64Index: 18318 entries, 0 to 8067\n",
      "Data columns (total 6 columns):\n",
      " #   Column             Non-Null Count  Dtype         \n",
      "---  ------             --------------  -----         \n",
      " 0   user_id            18318 non-null  int64         \n",
      " 1   start_time         18318 non-null  datetime64[ns]\n",
      " 2   level_choice_time  7599 non-null   datetime64[ns]\n",
      " 3   pack_choice_time   5250 non-null   datetime64[ns]\n",
      " 4   purchase_time      1469 non-null   datetime64[ns]\n",
      " 5   gruop_without      18318 non-null  object        \n",
      "dtypes: datetime64[ns](4), int64(1), object(1)\n",
      "memory usage: 1001.8+ KB\n"
     ]
    }
   ],
   "source": [
    "# объединяю датайремы в один\n",
    "total_group_df = pd.concat([total_df, total_df1])\n",
    "total_group_df.info()"
   ]
  },
  {
   "cell_type": "markdown",
   "metadata": {},
   "source": [
    "### надо проверить правильность данных"
   ]
  },
  {
   "cell_type": "code",
   "execution_count": 940,
   "metadata": {},
   "outputs": [
    {
     "name": "stdout",
     "output_type": "stream",
     "text": [
      "все пользователи 19926\n",
      "закончили обучение 10250\n",
      "начали обучение, но не закончили 1608\n",
      "сумма двух датафреймов с вычетом пользователей, не закончивших обучение 18318\n",
      "новый объединённый датафрейм, должно совпадать количество пользователей 18318\n"
     ]
    }
   ],
   "source": [
    "# мы брали пользователей, завершивших обучение хотя бы раз и тех, кто не начинал обучение, но остались пользователи, которые начали обучение и не закончили.\n",
    "print('все пользователи', total_events_2018.user_id.nunique())\n",
    "print('закончили обучение', total_events_2018[total_events_2018['event_type'] == 'tutorial_finish'].user_id.nunique())\n",
    "print('начали обучение, но не закончили', total_events_2018[total_events_2018['event_type'] == 'tutorial_start'].user_id.nunique() -\n",
    "total_events_2018[total_events_2018['event_type'] == 'tutorial_finish'].user_id.nunique())\n",
    "print('сумма двух датафреймов с вычетом пользователей, не закончивших обучение', total_events_whithout.user_id.nunique() + total_events_whith.user_id.nunique())\n",
    "print('новый объединённый датафрейм, должно совпадать количество пользователей', total_group_df.user_id.nunique())\n",
    "\n",
    "count_all_users = total_events_2018.user_id.nunique() # пригодится в будущем"
   ]
  },
  {
   "cell_type": "code",
   "execution_count": 941,
   "metadata": {},
   "outputs": [
    {
     "data": {
      "text/html": [
       "<div>\n",
       "<style scoped>\n",
       "    .dataframe tbody tr th:only-of-type {\n",
       "        vertical-align: middle;\n",
       "    }\n",
       "\n",
       "    .dataframe tbody tr th {\n",
       "        vertical-align: top;\n",
       "    }\n",
       "\n",
       "    .dataframe thead tr th {\n",
       "        text-align: left;\n",
       "    }\n",
       "</style>\n",
       "<table border=\"1\" class=\"dataframe\">\n",
       "  <thead>\n",
       "    <tr>\n",
       "      <th></th>\n",
       "      <th></th>\n",
       "      <th colspan=\"2\" halign=\"left\">describe</th>\n",
       "    </tr>\n",
       "    <tr>\n",
       "      <th></th>\n",
       "      <th>gruop_without</th>\n",
       "      <th>no_tutorial</th>\n",
       "      <th>yes_tutorial</th>\n",
       "    </tr>\n",
       "  </thead>\n",
       "  <tbody>\n",
       "    <tr>\n",
       "      <th rowspan=\"8\" valign=\"top\">level_choice_time</th>\n",
       "      <th>25%</th>\n",
       "      <td>0 days 02:15:28.500000</td>\n",
       "      <td>0 days 03:51:41</td>\n",
       "    </tr>\n",
       "    <tr>\n",
       "      <th>50%</th>\n",
       "      <td>0 days 04:56:05.500000</td>\n",
       "      <td>0 days 06:00:07</td>\n",
       "    </tr>\n",
       "    <tr>\n",
       "      <th>75%</th>\n",
       "      <td>0 days 08:24:01</td>\n",
       "      <td>0 days 09:25:42</td>\n",
       "    </tr>\n",
       "    <tr>\n",
       "      <th>count</th>\n",
       "      <td>98</td>\n",
       "      <td>7501</td>\n",
       "    </tr>\n",
       "    <tr>\n",
       "      <th>max</th>\n",
       "      <td>0 days 18:34:21</td>\n",
       "      <td>1 days 18:48:25</td>\n",
       "    </tr>\n",
       "    <tr>\n",
       "      <th>mean</th>\n",
       "      <td>0 days 05:15:33.122448979</td>\n",
       "      <td>0 days 07:05:36.854819357</td>\n",
       "    </tr>\n",
       "    <tr>\n",
       "      <th>min</th>\n",
       "      <td>0 days 00:09:26</td>\n",
       "      <td>0 days 00:08:15</td>\n",
       "    </tr>\n",
       "    <tr>\n",
       "      <th>std</th>\n",
       "      <td>0 days 03:41:00.594664298</td>\n",
       "      <td>0 days 04:30:23.231509186</td>\n",
       "    </tr>\n",
       "    <tr>\n",
       "      <th rowspan=\"8\" valign=\"top\">pack_choice_time</th>\n",
       "      <th>25%</th>\n",
       "      <td>0 days 00:03:09.750000</td>\n",
       "      <td>0 days 00:03:05</td>\n",
       "    </tr>\n",
       "    <tr>\n",
       "      <th>50%</th>\n",
       "      <td>0 days 00:04:46.500000</td>\n",
       "      <td>0 days 00:04:58</td>\n",
       "    </tr>\n",
       "    <tr>\n",
       "      <th>75%</th>\n",
       "      <td>0 days 00:07:11.250000</td>\n",
       "      <td>0 days 00:07:11</td>\n",
       "    </tr>\n",
       "    <tr>\n",
       "      <th>count</th>\n",
       "      <td>74</td>\n",
       "      <td>5176</td>\n",
       "    </tr>\n",
       "    <tr>\n",
       "      <th>max</th>\n",
       "      <td>0 days 00:13:32</td>\n",
       "      <td>0 days 00:15:48</td>\n",
       "    </tr>\n",
       "    <tr>\n",
       "      <th>mean</th>\n",
       "      <td>0 days 00:05:23.824324324</td>\n",
       "      <td>0 days 00:05:18.146058732</td>\n",
       "    </tr>\n",
       "    <tr>\n",
       "      <th>min</th>\n",
       "      <td>0 days 00:00:48</td>\n",
       "      <td>0 days 00:00:19</td>\n",
       "    </tr>\n",
       "    <tr>\n",
       "      <th>std</th>\n",
       "      <td>0 days 00:03:01.230146431</td>\n",
       "      <td>0 days 00:02:44.449118501</td>\n",
       "    </tr>\n",
       "    <tr>\n",
       "      <th rowspan=\"8\" valign=\"top\">purchase_time</th>\n",
       "      <th>25%</th>\n",
       "      <td>2 days 15:49:22</td>\n",
       "      <td>1 days 21:16:05.500000</td>\n",
       "    </tr>\n",
       "    <tr>\n",
       "      <th>50%</th>\n",
       "      <td>4 days 04:38:42</td>\n",
       "      <td>3 days 12:15:56</td>\n",
       "    </tr>\n",
       "    <tr>\n",
       "      <th>75%</th>\n",
       "      <td>5 days 23:34:55.750000</td>\n",
       "      <td>5 days 08:53:44.500000</td>\n",
       "    </tr>\n",
       "    <tr>\n",
       "      <th>count</th>\n",
       "      <td>22</td>\n",
       "      <td>1447</td>\n",
       "    </tr>\n",
       "    <tr>\n",
       "      <th>max</th>\n",
       "      <td>7 days 11:56:49</td>\n",
       "      <td>10 days 18:33:59</td>\n",
       "    </tr>\n",
       "    <tr>\n",
       "      <th>mean</th>\n",
       "      <td>4 days 04:49:33.590909090</td>\n",
       "      <td>3 days 17:17:59.641326883</td>\n",
       "    </tr>\n",
       "    <tr>\n",
       "      <th>min</th>\n",
       "      <td>0 days 09:35:48</td>\n",
       "      <td>0 days 00:44:50</td>\n",
       "    </tr>\n",
       "    <tr>\n",
       "      <th>std</th>\n",
       "      <td>2 days 04:58:40.602573417</td>\n",
       "      <td>2 days 04:31:59.804658578</td>\n",
       "    </tr>\n",
       "  </tbody>\n",
       "</table>\n",
       "</div>"
      ],
      "text/plain": [
       "                                          describe                           \n",
       "gruop_without                          no_tutorial               yes_tutorial\n",
       "level_choice_time 25%       0 days 02:15:28.500000            0 days 03:51:41\n",
       "                  50%       0 days 04:56:05.500000            0 days 06:00:07\n",
       "                  75%              0 days 08:24:01            0 days 09:25:42\n",
       "                  count                         98                       7501\n",
       "                  max              0 days 18:34:21            1 days 18:48:25\n",
       "                  mean   0 days 05:15:33.122448979  0 days 07:05:36.854819357\n",
       "                  min              0 days 00:09:26            0 days 00:08:15\n",
       "                  std    0 days 03:41:00.594664298  0 days 04:30:23.231509186\n",
       "pack_choice_time  25%       0 days 00:03:09.750000            0 days 00:03:05\n",
       "                  50%       0 days 00:04:46.500000            0 days 00:04:58\n",
       "                  75%       0 days 00:07:11.250000            0 days 00:07:11\n",
       "                  count                         74                       5176\n",
       "                  max              0 days 00:13:32            0 days 00:15:48\n",
       "                  mean   0 days 00:05:23.824324324  0 days 00:05:18.146058732\n",
       "                  min              0 days 00:00:48            0 days 00:00:19\n",
       "                  std    0 days 00:03:01.230146431  0 days 00:02:44.449118501\n",
       "purchase_time     25%              2 days 15:49:22     1 days 21:16:05.500000\n",
       "                  50%              4 days 04:38:42            3 days 12:15:56\n",
       "                  75%       5 days 23:34:55.750000     5 days 08:53:44.500000\n",
       "                  count                         22                       1447\n",
       "                  max              7 days 11:56:49           10 days 18:33:59\n",
       "                  mean   4 days 04:49:33.590909090  3 days 17:17:59.641326883\n",
       "                  min              0 days 09:35:48            0 days 00:44:50\n",
       "                  std    2 days 04:58:40.602573417  2 days 04:31:59.804658578"
      ]
     },
     "execution_count": 941,
     "metadata": {},
     "output_type": "execute_result"
    }
   ],
   "source": [
    "# через diff считаю разницу во времени между каждым этапом\n",
    "# start_time - время регистрации\n",
    "\n",
    "total_group_df = total_group_df.set_index('gruop_without') # уберу признак групп в иднекс датафрейма\n",
    "\n",
    "total_diff_df = total_group_df[['start_time', 'level_choice_time', 'pack_choice_time', 'purchase_time']].diff(axis = 1)\n",
    "\n",
    "total_diff_df.pivot_table(\n",
    "    values=['level_choice_time', 'pack_choice_time', 'purchase_time'],\n",
    "    columns = total_diff_df.index,\n",
    "    aggfunc = ['describe']\n",
    ")\n",
    "\n"
   ]
  },
  {
   "cell_type": "code",
   "execution_count": 942,
   "metadata": {},
   "outputs": [
    {
     "data": {
      "text/html": [
       "<div>\n",
       "<style scoped>\n",
       "    .dataframe tbody tr th:only-of-type {\n",
       "        vertical-align: middle;\n",
       "    }\n",
       "\n",
       "    .dataframe tbody tr th {\n",
       "        vertical-align: top;\n",
       "    }\n",
       "\n",
       "    .dataframe thead th {\n",
       "        text-align: right;\n",
       "    }\n",
       "</style>\n",
       "<table border=\"1\" class=\"dataframe\">\n",
       "  <thead>\n",
       "    <tr style=\"text-align: right;\">\n",
       "      <th></th>\n",
       "      <th>count</th>\n",
       "      <th>mean</th>\n",
       "      <th>std</th>\n",
       "      <th>min</th>\n",
       "      <th>25%</th>\n",
       "      <th>50%</th>\n",
       "      <th>75%</th>\n",
       "      <th>max</th>\n",
       "    </tr>\n",
       "    <tr>\n",
       "      <th>gruop_without</th>\n",
       "      <th></th>\n",
       "      <th></th>\n",
       "      <th></th>\n",
       "      <th></th>\n",
       "      <th></th>\n",
       "      <th></th>\n",
       "      <th></th>\n",
       "      <th></th>\n",
       "    </tr>\n",
       "  </thead>\n",
       "  <tbody>\n",
       "    <tr>\n",
       "      <th>no_tutorial</th>\n",
       "      <td>22</td>\n",
       "      <td>4 days 09:06:01.909090909</td>\n",
       "      <td>2 days 05:12:16.748091626</td>\n",
       "      <td>0 days 09:59:07</td>\n",
       "      <td>2 days 21:31:31</td>\n",
       "      <td>4 days 11:29:09</td>\n",
       "      <td>6 days 02:28:47.750000</td>\n",
       "      <td>7 days 16:46:20</td>\n",
       "    </tr>\n",
       "    <tr>\n",
       "      <th>yes_tutorial</th>\n",
       "      <td>1447</td>\n",
       "      <td>4 days 00:30:03.247408431</td>\n",
       "      <td>2 days 04:47:29.946150698</td>\n",
       "      <td>0 days 04:36:58</td>\n",
       "      <td>2 days 04:09:55</td>\n",
       "      <td>3 days 19:04:59</td>\n",
       "      <td>5 days 15:46:14</td>\n",
       "      <td>11 days 00:35:04</td>\n",
       "    </tr>\n",
       "  </tbody>\n",
       "</table>\n",
       "</div>"
      ],
      "text/plain": [
       "              count                       mean                        std  \\\n",
       "gruop_without                                                               \n",
       "no_tutorial      22  4 days 09:06:01.909090909  2 days 05:12:16.748091626   \n",
       "yes_tutorial   1447  4 days 00:30:03.247408431  2 days 04:47:29.946150698   \n",
       "\n",
       "                           min              25%              50%  \\\n",
       "gruop_without                                                      \n",
       "no_tutorial    0 days 09:59:07  2 days 21:31:31  4 days 11:29:09   \n",
       "yes_tutorial   0 days 04:36:58  2 days 04:09:55  3 days 19:04:59   \n",
       "\n",
       "                                  75%               max  \n",
       "gruop_without                                            \n",
       "no_tutorial    6 days 02:28:47.750000   7 days 16:46:20  \n",
       "yes_tutorial          5 days 15:46:14  11 days 00:35:04  "
      ]
     },
     "execution_count": 942,
     "metadata": {},
     "output_type": "execute_result"
    }
   ],
   "source": [
    "# время между началом (регистрацией) и оплатой\n",
    "total_group_df['delta'] =  total_group_df.purchase_time - total_group_df['start_time']\n",
    "total_group_df.groupby(total_group_df.index)['delta'].describe()"
   ]
  },
  {
   "cell_type": "code",
   "execution_count": 943,
   "metadata": {},
   "outputs": [
    {
     "data": {
      "text/html": [
       "<div>\n",
       "<style scoped>\n",
       "    .dataframe tbody tr th:only-of-type {\n",
       "        vertical-align: middle;\n",
       "    }\n",
       "\n",
       "    .dataframe tbody tr th {\n",
       "        vertical-align: top;\n",
       "    }\n",
       "\n",
       "    .dataframe thead th {\n",
       "        text-align: right;\n",
       "    }\n",
       "</style>\n",
       "<table border=\"1\" class=\"dataframe\">\n",
       "  <thead>\n",
       "    <tr style=\"text-align: right;\">\n",
       "      <th></th>\n",
       "      <th>level_choice_time</th>\n",
       "      <th>pack_choice_time</th>\n",
       "      <th>purchase_time</th>\n",
       "    </tr>\n",
       "    <tr>\n",
       "      <th>gruop_without</th>\n",
       "      <th></th>\n",
       "      <th></th>\n",
       "      <th></th>\n",
       "    </tr>\n",
       "  </thead>\n",
       "  <tbody>\n",
       "    <tr>\n",
       "      <th>no_tutorial</th>\n",
       "      <td>5.259201</td>\n",
       "      <td>0.089951</td>\n",
       "      <td>100.825997</td>\n",
       "    </tr>\n",
       "    <tr>\n",
       "      <th>yes_tutorial</th>\n",
       "      <td>7.093571</td>\n",
       "      <td>0.088374</td>\n",
       "      <td>89.299900</td>\n",
       "    </tr>\n",
       "  </tbody>\n",
       "</table>\n",
       "</div>"
      ],
      "text/plain": [
       "               level_choice_time  pack_choice_time  purchase_time\n",
       "gruop_without                                                    \n",
       "no_tutorial             5.259201          0.089951     100.825997\n",
       "yes_tutorial            7.093571          0.088374      89.299900"
      ]
     },
     "execution_count": 943,
     "metadata": {},
     "output_type": "execute_result"
    }
   ],
   "source": [
    "# готовлю данные для визуализации\n",
    "pivot = total_diff_df[['level_choice_time', 'pack_choice_time', 'purchase_time']]\n",
    "pivot = (pivot[['level_choice_time', 'pack_choice_time', 'purchase_time']]/pd.Timedelta(hours = 1)).copy()\n",
    "pivot = pivot.groupby(pivot.index)[['level_choice_time', 'pack_choice_time', 'purchase_time']].mean()\n",
    "pivot"
   ]
  },
  {
   "cell_type": "code",
   "execution_count": 944,
   "metadata": {},
   "outputs": [
    {
     "data": {
      "text/html": [
       "<div>\n",
       "<style scoped>\n",
       "    .dataframe tbody tr th:only-of-type {\n",
       "        vertical-align: middle;\n",
       "    }\n",
       "\n",
       "    .dataframe tbody tr th {\n",
       "        vertical-align: top;\n",
       "    }\n",
       "\n",
       "    .dataframe thead th {\n",
       "        text-align: right;\n",
       "    }\n",
       "</style>\n",
       "<table border=\"1\" class=\"dataframe\">\n",
       "  <thead>\n",
       "    <tr style=\"text-align: right;\">\n",
       "      <th></th>\n",
       "      <th>count</th>\n",
       "      <th>mean</th>\n",
       "      <th>std</th>\n",
       "      <th>min</th>\n",
       "      <th>25%</th>\n",
       "      <th>50%</th>\n",
       "      <th>75%</th>\n",
       "      <th>max</th>\n",
       "    </tr>\n",
       "    <tr>\n",
       "      <th>gruop_without</th>\n",
       "      <th></th>\n",
       "      <th></th>\n",
       "      <th></th>\n",
       "      <th></th>\n",
       "      <th></th>\n",
       "      <th></th>\n",
       "      <th></th>\n",
       "      <th></th>\n",
       "    </tr>\n",
       "  </thead>\n",
       "  <tbody>\n",
       "    <tr>\n",
       "      <th>no_tutorial</th>\n",
       "      <td>22</td>\n",
       "      <td>4 days 09:06:01.909090909</td>\n",
       "      <td>2 days 05:12:16.748091626</td>\n",
       "      <td>0 days 09:59:07</td>\n",
       "      <td>2 days 21:31:31</td>\n",
       "      <td>4 days 11:29:09</td>\n",
       "      <td>6 days 02:28:47.750000</td>\n",
       "      <td>7 days 16:46:20</td>\n",
       "    </tr>\n",
       "    <tr>\n",
       "      <th>yes_tutorial</th>\n",
       "      <td>1447</td>\n",
       "      <td>4 days 00:30:03.247408431</td>\n",
       "      <td>2 days 04:47:29.946150698</td>\n",
       "      <td>0 days 04:36:58</td>\n",
       "      <td>2 days 04:09:55</td>\n",
       "      <td>3 days 19:04:59</td>\n",
       "      <td>5 days 15:46:14</td>\n",
       "      <td>11 days 00:35:04</td>\n",
       "    </tr>\n",
       "  </tbody>\n",
       "</table>\n",
       "</div>"
      ],
      "text/plain": [
       "              count                       mean                        std  \\\n",
       "gruop_without                                                               \n",
       "no_tutorial      22  4 days 09:06:01.909090909  2 days 05:12:16.748091626   \n",
       "yes_tutorial   1447  4 days 00:30:03.247408431  2 days 04:47:29.946150698   \n",
       "\n",
       "                           min              25%              50%  \\\n",
       "gruop_without                                                      \n",
       "no_tutorial    0 days 09:59:07  2 days 21:31:31  4 days 11:29:09   \n",
       "yes_tutorial   0 days 04:36:58  2 days 04:09:55  3 days 19:04:59   \n",
       "\n",
       "                                  75%               max  \n",
       "gruop_without                                            \n",
       "no_tutorial    6 days 02:28:47.750000   7 days 16:46:20  \n",
       "yes_tutorial          5 days 15:46:14  11 days 00:35:04  "
      ]
     },
     "metadata": {},
     "output_type": "display_data"
    },
    {
     "data": {
      "text/plain": [
       "' - таблица разности между оплатой и регистрацией для двух групп'"
      ]
     },
     "metadata": {},
     "output_type": "display_data"
    },
    {
     "data": {
      "image/png": "[encoded data removed]",
      "text/plain": [
       "<Figure size 1500x400 with 3 Axes>"
      ]
     },
     "metadata": {},
     "output_type": "display_data"
    }
   ],
   "source": [
    "fig, axes = plt.subplots(nrows=1, ncols=3, figsize=(15,4))\n",
    "sns.barplot(\n",
    "    data=pivot,\n",
    "    y = 'level_choice_time', \n",
    "    orient='v',\n",
    "    x = pivot.index,\n",
    "    width=0.3,\n",
    "    ax = axes[0]\n",
    ")\n",
    "axes[0].set_title('Распределение level_choice_time', fontsize = (10));\n",
    "axes[0].set_xlabel('Группы')\n",
    "axes[0].grid()\n",
    "\n",
    "sns.barplot(\n",
    "    data=pivot,\n",
    "    y = 'pack_choice_time', \n",
    "    orient='v',\n",
    "    x = pivot.index,\n",
    "    width=0.3,\n",
    "    ax = axes[1]\n",
    ")\n",
    "axes[1].set_title('Распределение pack_choice_time', fontsize = (10));\n",
    "axes[1].grid()\n",
    "axes[1].set_xlabel('Группы')\n",
    "\n",
    "sns.barplot(\n",
    "    data=pivot,\n",
    "    y = 'purchase_time', \n",
    "    orient='v',\n",
    "    x = pivot.index,\n",
    "    width=0.3,\n",
    "    ax = axes[2]\n",
    ")\n",
    "axes[2].set_title('Распределение purchase_time', fontsize = (10));\n",
    "axes[2].set_xlabel('Группы')\n",
    "axes[2].grid()\n",
    "\n",
    "display(total_group_df.groupby(total_group_df.index)['delta'].describe(), ' - таблица разности между оплатой и регистрацией для двух групп')"
   ]
  },
  {
   "cell_type": "markdown",
   "metadata": {},
   "source": [
    "Для пользователей, прошедших обучение, процесс оплаты с момента регистрации в среднем на 8,5 часов быстрее, чем у 2 группы ( пользователей, не прошедших обучение), далее буду говорить о группах 1 (с обучением) и 2 (без обучения)."
   ]
  },
  {
   "cell_type": "markdown",
   "metadata": {},
   "source": [
    "Группа 1 выбирает уровень сложности на 2,2 часа дольше 2 группы. Далее группа 1 выбирает бесплатный пакет и покупает платный пакет вопросов быстрее(5 минут и 11 часов соответственно), в итоге 1 группа быстрее совершает оплату! Вывод: для пользователей, прошедших обучение, время между этапами различается по сравнению с пользователями, не прошедшими обучение."
   ]
  },
  {
   "cell_type": "markdown",
   "metadata": {},
   "source": [
    "### Задача 2: поверить, существует ли зависимость между вероятностью оплаты вопросов и количеством обучений, которые начинал или завершал пользователь."
   ]
  },
  {
   "cell_type": "code",
   "execution_count": 945,
   "metadata": {},
   "outputs": [
    {
     "name": "stdout",
     "output_type": "stream",
     "text": [
      "<class 'pandas.core.frame.DataFrame'>\n",
      "Int64Index: 68559 entries, 0 to 68558\n",
      "Data columns (total 8 columns):\n",
      " #   Column          Non-Null Count  Dtype         \n",
      "---  ------          --------------  -----         \n",
      " 0   event_id        66959 non-null  float64       \n",
      " 1   event_type      68559 non-null  object        \n",
      " 2   selected_level  8342 non-null   object        \n",
      " 3   start_time      68559 non-null  datetime64[ns]\n",
      " 4   tutorial_id     32954 non-null  float64       \n",
      " 5   user_id         68559 non-null  int64         \n",
      " 6   purchase_id     1600 non-null   float64       \n",
      " 7   amount          1600 non-null   float64       \n",
      "dtypes: datetime64[ns](1), float64(4), int64(1), object(2)\n",
      "memory usage: 4.7+ MB\n"
     ]
    }
   ],
   "source": [
    "# работаем с датафреймом\n",
    "total_events_2018.info()"
   ]
  },
  {
   "cell_type": "code",
   "execution_count": 946,
   "metadata": {},
   "outputs": [
    {
     "data": {
      "text/html": [
       "<div>\n",
       "<style scoped>\n",
       "    .dataframe tbody tr th:only-of-type {\n",
       "        vertical-align: middle;\n",
       "    }\n",
       "\n",
       "    .dataframe tbody tr th {\n",
       "        vertical-align: top;\n",
       "    }\n",
       "\n",
       "    .dataframe thead th {\n",
       "        text-align: right;\n",
       "    }\n",
       "</style>\n",
       "<table border=\"1\" class=\"dataframe\">\n",
       "  <thead>\n",
       "    <tr style=\"text-align: right;\">\n",
       "      <th></th>\n",
       "      <th>user_id</th>\n",
       "      <th>event_type</th>\n",
       "    </tr>\n",
       "  </thead>\n",
       "  <tbody>\n",
       "    <tr>\n",
       "      <th>0</th>\n",
       "      <td>27832</td>\n",
       "      <td>[registration]</td>\n",
       "    </tr>\n",
       "    <tr>\n",
       "      <th>1</th>\n",
       "      <td>27833</td>\n",
       "      <td>[registration, tutorial_start, tutorial_finish]</td>\n",
       "    </tr>\n",
       "    <tr>\n",
       "      <th>2</th>\n",
       "      <td>27834</td>\n",
       "      <td>[registration, tutorial_start, tutorial_finish]</td>\n",
       "    </tr>\n",
       "    <tr>\n",
       "      <th>3</th>\n",
       "      <td>27835</td>\n",
       "      <td>[registration, tutorial_start, tutorial_finish...</td>\n",
       "    </tr>\n",
       "    <tr>\n",
       "      <th>4</th>\n",
       "      <td>27836</td>\n",
       "      <td>[registration, tutorial_start, tutorial_start,...</td>\n",
       "    </tr>\n",
       "    <tr>\n",
       "      <th>5</th>\n",
       "      <td>27837</td>\n",
       "      <td>[registration]</td>\n",
       "    </tr>\n",
       "    <tr>\n",
       "      <th>6</th>\n",
       "      <td>27838</td>\n",
       "      <td>[registration]</td>\n",
       "    </tr>\n",
       "    <tr>\n",
       "      <th>7</th>\n",
       "      <td>27839</td>\n",
       "      <td>[registration, tutorial_start, tutorial_finish...</td>\n",
       "    </tr>\n",
       "    <tr>\n",
       "      <th>8</th>\n",
       "      <td>27840</td>\n",
       "      <td>[registration, tutorial_start, level_choice]</td>\n",
       "    </tr>\n",
       "    <tr>\n",
       "      <th>9</th>\n",
       "      <td>27841</td>\n",
       "      <td>[registration, tutorial_start, tutorial_finish]</td>\n",
       "    </tr>\n",
       "  </tbody>\n",
       "</table>\n",
       "</div>"
      ],
      "text/plain": [
       "   user_id                                         event_type\n",
       "0    27832                                     [registration]\n",
       "1    27833    [registration, tutorial_start, tutorial_finish]\n",
       "2    27834    [registration, tutorial_start, tutorial_finish]\n",
       "3    27835  [registration, tutorial_start, tutorial_finish...\n",
       "4    27836  [registration, tutorial_start, tutorial_start,...\n",
       "5    27837                                     [registration]\n",
       "6    27838                                     [registration]\n",
       "7    27839  [registration, tutorial_start, tutorial_finish...\n",
       "8    27840       [registration, tutorial_start, level_choice]\n",
       "9    27841    [registration, tutorial_start, tutorial_finish]"
      ]
     },
     "metadata": {},
     "output_type": "display_data"
    },
    {
     "data": {
      "text/plain": [
       "0                                         registration\n",
       "1      registration > tutorial_start > tutorial_finish\n",
       "2      registration > tutorial_start > tutorial_finish\n",
       "3    registration > tutorial_start > tutorial_finis...\n",
       "4    registration > tutorial_start > tutorial_start...\n",
       "5                                         registration\n",
       "6                                         registration\n",
       "7    registration > tutorial_start > tutorial_finis...\n",
       "8         registration > tutorial_start > level_choice\n",
       "9      registration > tutorial_start > tutorial_finish\n",
       "Name: event_path, dtype: object"
      ]
     },
     "execution_count": 946,
     "metadata": {},
     "output_type": "execute_result"
    }
   ],
   "source": [
    "# продолжаем работу с датафреймом - total_events_2018\n",
    "total_events_2018 = total_events_2018.reset_index(drop=True).sort_values(['user_id','start_time'])\n",
    "user_path_df = total_events_2018.groupby(\"user_id\")[\"event_type\"].apply(list).reset_index()\n",
    "display(user_path_df.head(10))\n",
    "\n",
    "# преобразуем кортеж в строку в каждой ячейке, это ускорит обработку данных\n",
    "user_path_df[\"event_path\"] = user_path_df[\"event_type\"].apply(lambda x: \" > \".join(x))\n",
    "user_path_df[\"event_path\"].head(10) "
   ]
  },
  {
   "cell_type": "code",
   "execution_count": 947,
   "metadata": {},
   "outputs": [
    {
     "data": {
      "text/plain": [
       "event_path\n",
       "registration                                                                                                       7970\n",
       "registration > tutorial_start > tutorial_finish > level_choice > pack_choice                                       2796\n",
       "registration > tutorial_start > tutorial_finish                                                                    1956\n",
       "registration > tutorial_start > tutorial_finish > level_choice                                                     1713\n",
       "registration > tutorial_start > tutorial_finish > level_choice > pack_choice > purchase                            1083\n",
       "registration > tutorial_start                                                                                       842\n",
       "registration > tutorial_start > level_choice > pack_choice                                                          346\n",
       "registration > tutorial_start > tutorial_finish > tutorial_start > tutorial_finish                                  323\n",
       "registration > tutorial_start > level_choice                                                                        243\n",
       "registration > tutorial_start > tutorial_finish > level_choice > pack_choice > tutorial_start > tutorial_finish     236\n",
       "Name: user_id, dtype: int64"
      ]
     },
     "execution_count": 947,
     "metadata": {},
     "output_type": "execute_result"
    }
   ],
   "source": [
    "# самые популярные пользовательские пути\n",
    "user_paths = (\n",
    "    user_path_df.groupby([\"event_path\"])[\"user_id\"]\n",
    "    .nunique() # хотя можно и count - нет разницы в данный момент.\n",
    "    .sort_values(ascending=False)\n",
    ")\n",
    "user_paths.head(10)"
   ]
  },
  {
   "cell_type": "code",
   "execution_count": 948,
   "metadata": {},
   "outputs": [
    {
     "data": {
      "text/plain": [
       "event_path\n",
       "registration > tutorial_start > tutorial_finish > level_choice > pack_choice > purchase                                                                                                             1083\n",
       "registration > tutorial_start > level_choice > pack_choice > purchase                                                                                                                                124\n",
       "registration > tutorial_start > tutorial_finish > level_choice > pack_choice > tutorial_start > tutorial_finish > purchase                                                                           101\n",
       "registration > tutorial_start > tutorial_finish > tutorial_start > tutorial_finish > level_choice > pack_choice > purchase                                                                            52\n",
       "registration > tutorial_start > tutorial_start > tutorial_finish > level_choice > pack_choice > purchase                                                                                              26\n",
       "registration > level_choice > pack_choice > purchase                                                                                                                                                  22\n",
       "registration > tutorial_start > tutorial_finish > level_choice > pack_choice > tutorial_start > purchase                                                                                              21\n",
       "registration > tutorial_start > tutorial_finish > level_choice > pack_choice > tutorial_start > tutorial_finish > tutorial_start > tutorial_finish > purchase                                         12\n",
       "registration > tutorial_start > tutorial_finish > tutorial_start > tutorial_finish > level_choice > pack_choice > tutorial_start > tutorial_finish > purchase                                          8\n",
       "registration > tutorial_start > tutorial_finish > level_choice > pack_choice > tutorial_start > tutorial_finish > tutorial_start > tutorial_finish > tutorial_start > tutorial_finish > purchase       7\n",
       "Name: user_id, dtype: int64"
      ]
     },
     "metadata": {},
     "output_type": "display_data"
    }
   ],
   "source": [
    "# Ищем последовательности с оплатой\n",
    "display(user_paths[user_paths.index.str.contains('purchase')].head(10))"
   ]
  },
  {
   "cell_type": "code",
   "execution_count": 949,
   "metadata": {},
   "outputs": [
    {
     "data": {
      "text/plain": [
       "event_path\n",
       "registration > tutorial_start > tutorial_finish > level_choice > pack_choice > purchase                                                                                                             1083\n",
       "registration > tutorial_start > level_choice > pack_choice > purchase                                                                                                                                124\n",
       "registration > tutorial_start > tutorial_finish > level_choice > pack_choice > tutorial_start > tutorial_finish > purchase                                                                           101\n",
       "registration > tutorial_start > tutorial_finish > tutorial_start > tutorial_finish > level_choice > pack_choice > purchase                                                                            52\n",
       "registration > tutorial_start > tutorial_start > tutorial_finish > level_choice > pack_choice > purchase                                                                                              26\n",
       "registration > tutorial_start > tutorial_finish > level_choice > pack_choice > tutorial_start > purchase                                                                                              21\n",
       "registration > tutorial_start > tutorial_finish > level_choice > pack_choice > tutorial_start > tutorial_finish > tutorial_start > tutorial_finish > purchase                                         12\n",
       "registration > tutorial_start > tutorial_finish > tutorial_start > tutorial_finish > level_choice > pack_choice > tutorial_start > tutorial_finish > purchase                                          8\n",
       "registration > tutorial_start > tutorial_finish > level_choice > pack_choice > tutorial_start > tutorial_finish > tutorial_start > tutorial_finish > tutorial_start > tutorial_finish > purchase       7\n",
       "registration > tutorial_start > tutorial_start > tutorial_finish > level_choice > pack_choice > tutorial_start > tutorial_finish > purchase                                                            6\n",
       "Name: user_id, dtype: int64"
      ]
     },
     "metadata": {},
     "output_type": "display_data"
    },
    {
     "name": "stdout",
     "output_type": "stream",
     "text": [
      "1578 количество оплат, где было хотя бы 1 обучение\n",
      "1600 количество оплат всего\n"
     ]
    }
   ],
   "source": [
    "# Ищем последовательности с оплатой и обучением\n",
    "mask1 = user_paths.index.str.contains('purchase')\n",
    "mask2 = user_paths.index.str.contains('tutorial_start')\n",
    "\n",
    "display(user_paths[(mask1)&(mask2)].head(10)) # самые популярные пути с оплатой и обучением\n",
    "\n",
    "purchase_count = user_paths[(mask1)&(mask2)]\n",
    "print(purchase_count.sum(), 'количество оплат, где было хотя бы 1 обучение')\n",
    "print(total_events_2018.amount.count(), 'количество оплат всего')\n",
    "\n",
    "purchase_count = user_paths[(mask1)&(mask2)].head(7) # оставлю 7 самых популярный путей для графика"
   ]
  },
  {
   "cell_type": "code",
   "execution_count": 950,
   "metadata": {},
   "outputs": [
    {
     "name": "stdout",
     "output_type": "stream",
     "text": [
      "98.62 %\n"
     ]
    }
   ],
   "source": [
    "# процент оплат для пользователей, где был старт обучения\n",
    "print(round(100*1578/1600,2), '%')\n",
    "# в расчётах по 1 задаче выше я показывал, что 22 оплаты пришлось на пользователей, которые не проходили обучение"
   ]
  },
  {
   "cell_type": "markdown",
   "metadata": {},
   "source": [
    "#### Значит: registration > tutorial_start > tutorial_finish > level_choice > pack_choice > purchase - самый популярный путь с 1 законченным обучением, который приводит к оплате.\n",
    "#### registration > tutorial_start > level_choice > pack_choice > purchase - 2 путь по популярности, в нём обучение не закончено. \n",
    "3 и 4 пути (с повторным обучением), примерно, равны со 2-ым. Один пользователь - одна оплата, итого 1600 оплат, 1578 приходится на пользователей с обучением или 98.62% (1447 для тех, кто завершил обучение или прошёл дваджы, значит 1578 - 1447 = 131 оплата на пользователей с незаконченным обучением и 22 без обучения)."
   ]
  },
  {
   "cell_type": "code",
   "execution_count": 951,
   "metadata": {},
   "outputs": [
    {
     "data": {
      "image/png": "[encoded data removed]",
      "text/plain": [
       "<Figure size 500x500 with 1 Axes>"
      ]
     },
     "metadata": {},
     "output_type": "display_data"
    }
   ],
   "source": [
    "purchase_count\n",
    "\n",
    "fig = plt.figure(figsize=(5, 5))\n",
    "axes = fig.add_axes([0, 0, 1, 1])\n",
    "axes.pie(\n",
    "    x = purchase_count,\n",
    "    labels = purchase_count.index,\n",
    "    autopct ='%.1f%%',\n",
    "    explode = [0.1, 0, 0, 0, 0, 0, 0]\n",
    "    \n",
    ");\n",
    "axes.set_title('График отражающий путь пользователя, в котором присутствует оплата и обучение');"
   ]
  },
  {
   "cell_type": "markdown",
   "metadata": {},
   "source": [
    "Вывод : нет зависимостей между вероятностью оплаты вопросов и количеством обучений, которые начинал или завершал пользователь. Так как 76.3% - это группа, закончившая обучение 1 раз. Возможно даже и такое, чем чаще пользователь возвращается к обучению,тем больше падает процент оплат, так как пользователь не понимает игру."
   ]
  },
  {
   "cell_type": "markdown",
   "metadata": {},
   "source": [
    "### поделю пользователей на группы в зависимости от количества обучений."
   ]
  },
  {
   "cell_type": "code",
   "execution_count": 952,
   "metadata": {},
   "outputs": [
    {
     "data": {
      "text/plain": [
       "array([1, 2, 3, 4, 5, 6, 7, 8, 9], dtype=int64)"
      ]
     },
     "metadata": {},
     "output_type": "display_data"
    },
    {
     "name": "stdout",
     "output_type": "stream",
     "text": [
      "   number_groups  user_id  purchase_id\n",
      "0              1     9103         1207\n",
      "1              2     1589          218\n",
      "2              3      427           51\n",
      "3              4      221           30\n",
      "4              5      109           16\n",
      "5              6      116           14\n",
      "6              7       94           12\n",
      "7              8       86           13\n",
      "8              9      113           17\n"
     ]
    },
    {
     "name": "stderr",
     "output_type": "stream",
     "text": [
      "C:\\Users\\ALFA\\AppData\\Local\\Temp\\ipykernel_19488\\1549215824.py:9: FutureWarning: Indexing with multiple keys (implicitly converted to a tuple of keys) will be deprecated, use a list instead.\n",
      "  df2 = total_events_2018.groupby('number_groups', as_index = False)['user_id', 'purchase_id'].nunique() # подготовим датафрейм для подсчёта конверсии в покупку для каждой группы\n"
     ]
    },
    {
     "data": {
      "text/html": [
       "<div>\n",
       "<style scoped>\n",
       "    .dataframe tbody tr th:only-of-type {\n",
       "        vertical-align: middle;\n",
       "    }\n",
       "\n",
       "    .dataframe tbody tr th {\n",
       "        vertical-align: top;\n",
       "    }\n",
       "\n",
       "    .dataframe thead th {\n",
       "        text-align: right;\n",
       "    }\n",
       "</style>\n",
       "<table border=\"1\" class=\"dataframe\">\n",
       "  <thead>\n",
       "    <tr style=\"text-align: right;\">\n",
       "      <th></th>\n",
       "      <th>number_groups</th>\n",
       "      <th>count_user_id</th>\n",
       "      <th>count_purchase_id</th>\n",
       "      <th>percent</th>\n",
       "    </tr>\n",
       "  </thead>\n",
       "  <tbody>\n",
       "    <tr>\n",
       "      <th>7</th>\n",
       "      <td>8</td>\n",
       "      <td>86</td>\n",
       "      <td>13</td>\n",
       "      <td>15.12</td>\n",
       "    </tr>\n",
       "    <tr>\n",
       "      <th>8</th>\n",
       "      <td>9</td>\n",
       "      <td>113</td>\n",
       "      <td>17</td>\n",
       "      <td>15.04</td>\n",
       "    </tr>\n",
       "    <tr>\n",
       "      <th>4</th>\n",
       "      <td>5</td>\n",
       "      <td>109</td>\n",
       "      <td>16</td>\n",
       "      <td>14.68</td>\n",
       "    </tr>\n",
       "    <tr>\n",
       "      <th>1</th>\n",
       "      <td>2</td>\n",
       "      <td>1589</td>\n",
       "      <td>218</td>\n",
       "      <td>13.72</td>\n",
       "    </tr>\n",
       "    <tr>\n",
       "      <th>3</th>\n",
       "      <td>4</td>\n",
       "      <td>221</td>\n",
       "      <td>30</td>\n",
       "      <td>13.57</td>\n",
       "    </tr>\n",
       "    <tr>\n",
       "      <th>0</th>\n",
       "      <td>1</td>\n",
       "      <td>9103</td>\n",
       "      <td>1207</td>\n",
       "      <td>13.26</td>\n",
       "    </tr>\n",
       "    <tr>\n",
       "      <th>6</th>\n",
       "      <td>7</td>\n",
       "      <td>94</td>\n",
       "      <td>12</td>\n",
       "      <td>12.77</td>\n",
       "    </tr>\n",
       "    <tr>\n",
       "      <th>5</th>\n",
       "      <td>6</td>\n",
       "      <td>116</td>\n",
       "      <td>14</td>\n",
       "      <td>12.07</td>\n",
       "    </tr>\n",
       "    <tr>\n",
       "      <th>2</th>\n",
       "      <td>3</td>\n",
       "      <td>427</td>\n",
       "      <td>51</td>\n",
       "      <td>11.94</td>\n",
       "    </tr>\n",
       "  </tbody>\n",
       "</table>\n",
       "</div>"
      ],
      "text/plain": [
       "   number_groups  count_user_id  count_purchase_id  percent\n",
       "7              8             86                 13    15.12\n",
       "8              9            113                 17    15.04\n",
       "4              5            109                 16    14.68\n",
       "1              2           1589                218    13.72\n",
       "3              4            221                 30    13.57\n",
       "0              1           9103               1207    13.26\n",
       "6              7             94                 12    12.77\n",
       "5              6            116                 14    12.07\n",
       "2              3            427                 51    11.94"
      ]
     },
     "metadata": {},
     "output_type": "display_data"
    }
   ],
   "source": [
    "df = total_events_2018[total_events_2018['event_type'].isin(['tutorial_start'])][['user_id', 'event_type']]\n",
    "df = df.user_id.value_counts().sort_values()\n",
    "df = df.reset_index()\n",
    "df.columns = ['user_id', 'number_groups']\n",
    "display(df.number_groups.unique()) # номера групп, пример: 1 обучение - 1 группа, 2 обучения - 2 группа и т.д.\n",
    "\n",
    "# соединяю датафреймы с исходным\n",
    "total_events_2018 = total_events_2018.merge(df, on = 'user_id', how = 'inner')\n",
    "df2 = total_events_2018.groupby('number_groups', as_index = False)['user_id', 'purchase_id'].nunique() # подготовим датафрейм для подсчёта конверсии в покупку для каждой группы\n",
    "#  напомню, что 1 пользователь совершает покупку 1 раз. Поэтому считаю через метод: nunique\n",
    "\n",
    "print(df2) # промежуточный результат\n",
    "\n",
    "df2['percent'] = round(100 * df2.purchase_id/df2.user_id,2)\n",
    "\n",
    "# переименуем столбцы\n",
    "df2.columns = ['number_groups',  'count_user_id',  'count_purchase_id', 'percent'] \n",
    "df2 = df2.sort_values('percent', ascending = False)\n",
    "display(df2)"
   ]
  },
  {
   "cell_type": "markdown",
   "metadata": {},
   "source": [
    "### построим график?"
   ]
  },
  {
   "cell_type": "code",
   "execution_count": 953,
   "metadata": {},
   "outputs": [
    {
     "data": {
      "image/png": "[encoded data removed]",
      "text/plain": [
       "<Figure size 1500x400 with 1 Axes>"
      ]
     },
     "metadata": {},
     "output_type": "display_data"
    }
   ],
   "source": [
    "fig, axes = plt.subplots( 1, figsize=(15,4))\n",
    "barplot1 = sns.barplot(\n",
    "    data= df2 ,\n",
    "    y = 'percent', \n",
    "    orient='v',\n",
    "    x = 'number_groups',\n",
    "    \n",
    "    width = 0.5);\n",
    "\n",
    "barplot1.set_title('Конверсия в покупку в зависимости от группы (номер группы = количеству обучений)', fontsize = (10));\n",
    "barplot1.grid()\n",
    "barplot1.set_xlabel('Группы');\n",
    "    "
   ]
  },
  {
   "cell_type": "code",
   "execution_count": 954,
   "metadata": {},
   "outputs": [
    {
     "data": {
      "image/png": "[encoded data removed]",
      "text/plain": [
       "<Figure size 1200x400 with 1 Axes>"
      ]
     },
     "metadata": {},
     "output_type": "display_data"
    }
   ],
   "source": [
    "df2[['number_groups', 'count_user_id', 'count_purchase_id']].set_index('number_groups').plot(\n",
    "    kind='bar',\n",
    "    grid=True,\n",
    "    title = 'сравнение количества пользователей и количества оплат разных групп',\n",
    "    legend = True,\n",
    "    figsize=(12, 4),\n",
    "    logy = True,\n",
    "    ylabel = 'количество'\n",
    ");\n",
    "    "
   ]
  },
  {
   "cell_type": "markdown",
   "metadata": {},
   "source": [
    "обратите внимание на группы 5,6,7,8,9 на графике, отчётливо видно, что количество пользователей и количество оплат, примерно, равномерно распределены у трёх групп."
   ]
  },
  {
   "cell_type": "markdown",
   "metadata": {},
   "source": [
    "### можно сделать вывод, что само по себе обучение влияет на вероятность оплаты  не зависит от количества обучений, напомню, что пользователи без обучения совершили 22 покупки, их было 8068."
   ]
  },
  {
   "cell_type": "markdown",
   "metadata": {},
   "source": [
    "### Задача 3\n",
    "#### Определить, насколько прозрачен процесс взаимодействия с игрой."
   ]
  },
  {
   "cell_type": "markdown",
   "metadata": {},
   "source": [
    "Выяснить, как часто пользователи начинают обучение после выбора уровня сложности. (Это позволит оценить прозрачность процесса взаимодействия с игрой: если пользователи после выбора уровня сложности обращаются к обучению, значит, работа с приложением непонятна.)"
   ]
  },
  {
   "cell_type": "code",
   "execution_count": 955,
   "metadata": {},
   "outputs": [
    {
     "data": {
      "text/plain": [
       "event_path\n",
       "registration > tutorial_start > tutorial_finish > level_choice > tutorial_start > tutorial_finish                                                                          169\n",
       "registration > tutorial_start > tutorial_finish > level_choice > tutorial_start                                                                                             39\n",
       "registration > tutorial_start > tutorial_finish > level_choice > tutorial_start > tutorial_finish > tutorial_start > tutorial_finish                                        31\n",
       "registration > tutorial_start > tutorial_finish > tutorial_start > tutorial_finish > level_choice > tutorial_start > tutorial_finish                                        17\n",
       "registration > tutorial_start > tutorial_finish > level_choice > tutorial_start > tutorial_finish > tutorial_start > tutorial_finish > tutorial_start > tutorial_finish     12\n",
       "registration > tutorial_start > tutorial_start > tutorial_finish > level_choice > tutorial_start > tutorial_finish                                                           9\n",
       "registration > tutorial_start > level_choice > tutorial_start                                                                                                                9\n",
       "registration > tutorial_start > tutorial_finish > tutorial_start > tutorial_finish > level_choice > tutorial_start > tutorial_finish > tutorial_start > tutorial_finish      9\n",
       "registration > tutorial_start > tutorial_finish > level_choice > tutorial_start > tutorial_finish > tutorial_start                                                           7\n",
       "registration > tutorial_start > tutorial_finish > tutorial_start > tutorial_finish > tutorial_start > tutorial_finish > level_choice > tutorial_start > tutorial_finish      6\n",
       "Name: user_id, dtype: int64"
      ]
     },
     "metadata": {},
     "output_type": "display_data"
    }
   ],
   "source": [
    "# формирую фильтр по событию : выбор уровня сложности и начала обучения\n",
    "display(user_paths[user_paths.index.str.contains('level_choice > tutorial_start')].head(10))\n"
   ]
  },
  {
   "cell_type": "code",
   "execution_count": 956,
   "metadata": {},
   "outputs": [
    {
     "name": "stdout",
     "output_type": "stream",
     "text": [
      "2.46 %\n"
     ]
    }
   ],
   "source": [
    "# 490 пользователей начали обучение после выбора уровня сложности\n",
    "user_paths[user_paths.index.str.contains('level_choice > tutorial_start')].sum()\n",
    "# всего записей 19926 - это количество пользователей, у каждого пользователя 1 путь.\n",
    "print(round((user_paths[user_paths.index.str.contains('level_choice > tutorial_start')].sum()/user_paths.sum())*100,2), '%')\n"
   ]
  },
  {
   "cell_type": "markdown",
   "metadata": {},
   "source": [
    "Вывод: 2,46 % пользователей после выбора уровня сложности начинают обучение ещё раз! Я считаю, что это не часто. Рассмотрим разные комбинации, где обучение было позже выбора сложности. Для этого вычту из столбца со временем обучения столбец со временем выбора сложности, если результат будет положительный, то это искомый случай!"
   ]
  },
  {
   "cell_type": "code",
   "execution_count": 957,
   "metadata": {},
   "outputs": [
    {
     "data": {
      "text/html": [
       "<div>\n",
       "<style scoped>\n",
       "    .dataframe tbody tr th:only-of-type {\n",
       "        vertical-align: middle;\n",
       "    }\n",
       "\n",
       "    .dataframe tbody tr th {\n",
       "        vertical-align: top;\n",
       "    }\n",
       "\n",
       "    .dataframe thead th {\n",
       "        text-align: right;\n",
       "    }\n",
       "</style>\n",
       "<table border=\"1\" class=\"dataframe\">\n",
       "  <thead>\n",
       "    <tr style=\"text-align: right;\">\n",
       "      <th></th>\n",
       "      <th>event_id</th>\n",
       "      <th>event_type</th>\n",
       "      <th>selected_level</th>\n",
       "      <th>start_time</th>\n",
       "      <th>tutorial_id</th>\n",
       "      <th>user_id</th>\n",
       "    </tr>\n",
       "  </thead>\n",
       "  <tbody>\n",
       "    <tr>\n",
       "      <th>51405</th>\n",
       "      <td>80308</td>\n",
       "      <td>registration</td>\n",
       "      <td>NaN</td>\n",
       "      <td>2018-01-01T03:48:40</td>\n",
       "      <td>NaN</td>\n",
       "      <td>27832</td>\n",
       "    </tr>\n",
       "    <tr>\n",
       "      <th>51406</th>\n",
       "      <td>80309</td>\n",
       "      <td>registration</td>\n",
       "      <td>NaN</td>\n",
       "      <td>2018-01-01T04:07:25</td>\n",
       "      <td>NaN</td>\n",
       "      <td>27833</td>\n",
       "    </tr>\n",
       "    <tr>\n",
       "      <th>51407</th>\n",
       "      <td>80310</td>\n",
       "      <td>registration</td>\n",
       "      <td>NaN</td>\n",
       "      <td>2018-01-01T08:35:10</td>\n",
       "      <td>NaN</td>\n",
       "      <td>27834</td>\n",
       "    </tr>\n",
       "    <tr>\n",
       "      <th>51408</th>\n",
       "      <td>80311</td>\n",
       "      <td>registration</td>\n",
       "      <td>NaN</td>\n",
       "      <td>2018-01-01T11:54:47</td>\n",
       "      <td>NaN</td>\n",
       "      <td>27835</td>\n",
       "    </tr>\n",
       "    <tr>\n",
       "      <th>51409</th>\n",
       "      <td>80312</td>\n",
       "      <td>registration</td>\n",
       "      <td>NaN</td>\n",
       "      <td>2018-01-01T13:28:07</td>\n",
       "      <td>NaN</td>\n",
       "      <td>27836</td>\n",
       "    </tr>\n",
       "  </tbody>\n",
       "</table>\n",
       "</div>"
      ],
      "text/plain": [
       "       event_id    event_type selected_level           start_time  \\\n",
       "51405     80308  registration            NaN  2018-01-01T03:48:40   \n",
       "51406     80309  registration            NaN  2018-01-01T04:07:25   \n",
       "51407     80310  registration            NaN  2018-01-01T08:35:10   \n",
       "51408     80311  registration            NaN  2018-01-01T11:54:47   \n",
       "51409     80312  registration            NaN  2018-01-01T13:28:07   \n",
       "\n",
       "       tutorial_id  user_id  \n",
       "51405          NaN    27832  \n",
       "51406          NaN    27833  \n",
       "51407          NaN    27834  \n",
       "51408          NaN    27835  \n",
       "51409          NaN    27836  "
      ]
     },
     "execution_count": 957,
     "metadata": {},
     "output_type": "execute_result"
    }
   ],
   "source": [
    "# вернёмся к нашему датафрейму\n",
    "events_2018.head()"
   ]
  },
  {
   "cell_type": "code",
   "execution_count": 958,
   "metadata": {},
   "outputs": [
    {
     "name": "stdout",
     "output_type": "stream",
     "text": [
      "<class 'pandas.core.frame.DataFrame'>\n",
      "Int64Index: 12686 entries, 0 to 12685\n",
      "Data columns (total 3 columns):\n",
      " #   Column               Non-Null Count  Dtype         \n",
      "---  ------               --------------  -----         \n",
      " 0   user_id              12686 non-null  int64         \n",
      " 1   tutorial_start_time  12686 non-null  datetime64[ns]\n",
      " 2   level_choice_time    12686 non-null  datetime64[ns]\n",
      "dtypes: datetime64[ns](2), int64(1)\n",
      "memory usage: 396.4 KB\n"
     ]
    }
   ],
   "source": [
    "# формируем датафреймы\n",
    "level_choice_df = total_events_2018[total_events_2018['event_type'] == 'level_choice'][['user_id', 'start_time']]\n",
    "tutorial_start_df = total_events_2018[total_events_2018['event_type'] == 'tutorial_start'][['user_id', 'start_time']]\n",
    "\n",
    "level_choice_df = level_choice_df.rename(\n",
    "    columns={\"start_time\": \"level_choice_time\"}\n",
    ")\n",
    "                   \n",
    "tutorial_start_df = tutorial_start_df.rename(\n",
    "    columns={\"start_time\": \"tutorial_start_time\"}\n",
    ")                                                   \n",
    "\n",
    "# объединяею датафреймы\n",
    "merge_df = tutorial_start_df.merge(level_choice_df, on ='user_id', how = 'inner')               \n",
    "merge_df.info()"
   ]
  },
  {
   "cell_type": "code",
   "execution_count": 959,
   "metadata": {},
   "outputs": [
    {
     "data": {
      "text/html": [
       "<div>\n",
       "<style scoped>\n",
       "    .dataframe tbody tr th:only-of-type {\n",
       "        vertical-align: middle;\n",
       "    }\n",
       "\n",
       "    .dataframe tbody tr th {\n",
       "        vertical-align: top;\n",
       "    }\n",
       "\n",
       "    .dataframe thead th {\n",
       "        text-align: right;\n",
       "    }\n",
       "</style>\n",
       "<table border=\"1\" class=\"dataframe\">\n",
       "  <thead>\n",
       "    <tr style=\"text-align: right;\">\n",
       "      <th></th>\n",
       "      <th>user_id</th>\n",
       "      <th>tutorial_start_time</th>\n",
       "      <th>level_choice_time</th>\n",
       "      <th>time</th>\n",
       "    </tr>\n",
       "  </thead>\n",
       "  <tbody>\n",
       "    <tr>\n",
       "      <th>4</th>\n",
       "      <td>27842</td>\n",
       "      <td>2018-01-02 09:01:51</td>\n",
       "      <td>2018-01-02 08:46:03</td>\n",
       "      <td>0.263333</td>\n",
       "    </tr>\n",
       "    <tr>\n",
       "      <th>5</th>\n",
       "      <td>27842</td>\n",
       "      <td>2018-01-02 18:08:01</td>\n",
       "      <td>2018-01-02 08:46:03</td>\n",
       "      <td>9.366111</td>\n",
       "    </tr>\n",
       "    <tr>\n",
       "      <th>8</th>\n",
       "      <td>27845</td>\n",
       "      <td>2018-01-02 07:08:00</td>\n",
       "      <td>2018-01-02 06:19:18</td>\n",
       "      <td>0.811667</td>\n",
       "    </tr>\n",
       "    <tr>\n",
       "      <th>13</th>\n",
       "      <td>27852</td>\n",
       "      <td>2018-01-02 20:34:31</td>\n",
       "      <td>2018-01-02 18:39:44</td>\n",
       "      <td>1.913056</td>\n",
       "    </tr>\n",
       "    <tr>\n",
       "      <th>21</th>\n",
       "      <td>27862</td>\n",
       "      <td>2018-01-03 11:17:41</td>\n",
       "      <td>2018-01-03 04:19:32</td>\n",
       "      <td>6.969167</td>\n",
       "    </tr>\n",
       "    <tr>\n",
       "      <th>...</th>\n",
       "      <td>...</td>\n",
       "      <td>...</td>\n",
       "      <td>...</td>\n",
       "      <td>...</td>\n",
       "    </tr>\n",
       "    <tr>\n",
       "      <th>12630</th>\n",
       "      <td>47635</td>\n",
       "      <td>2018-12-28 17:28:42</td>\n",
       "      <td>2018-12-28 11:43:38</td>\n",
       "      <td>5.751111</td>\n",
       "    </tr>\n",
       "    <tr>\n",
       "      <th>12643</th>\n",
       "      <td>47657</td>\n",
       "      <td>2018-12-28 21:44:13</td>\n",
       "      <td>2018-12-28 21:25:49</td>\n",
       "      <td>0.306667</td>\n",
       "    </tr>\n",
       "    <tr>\n",
       "      <th>12644</th>\n",
       "      <td>47657</td>\n",
       "      <td>2018-12-28 21:53:06</td>\n",
       "      <td>2018-12-28 21:25:49</td>\n",
       "      <td>0.454722</td>\n",
       "    </tr>\n",
       "    <tr>\n",
       "      <th>12666</th>\n",
       "      <td>47711</td>\n",
       "      <td>2018-12-29 22:50:57</td>\n",
       "      <td>2018-12-29 21:23:23</td>\n",
       "      <td>1.459444</td>\n",
       "    </tr>\n",
       "    <tr>\n",
       "      <th>12672</th>\n",
       "      <td>47724</td>\n",
       "      <td>2018-12-31 02:47:53</td>\n",
       "      <td>2018-12-30 13:21:12</td>\n",
       "      <td>13.444722</td>\n",
       "    </tr>\n",
       "  </tbody>\n",
       "</table>\n",
       "<p>2792 rows × 4 columns</p>\n",
       "</div>"
      ],
      "text/plain": [
       "       user_id tutorial_start_time   level_choice_time       time\n",
       "4        27842 2018-01-02 09:01:51 2018-01-02 08:46:03   0.263333\n",
       "5        27842 2018-01-02 18:08:01 2018-01-02 08:46:03   9.366111\n",
       "8        27845 2018-01-02 07:08:00 2018-01-02 06:19:18   0.811667\n",
       "13       27852 2018-01-02 20:34:31 2018-01-02 18:39:44   1.913056\n",
       "21       27862 2018-01-03 11:17:41 2018-01-03 04:19:32   6.969167\n",
       "...        ...                 ...                 ...        ...\n",
       "12630    47635 2018-12-28 17:28:42 2018-12-28 11:43:38   5.751111\n",
       "12643    47657 2018-12-28 21:44:13 2018-12-28 21:25:49   0.306667\n",
       "12644    47657 2018-12-28 21:53:06 2018-12-28 21:25:49   0.454722\n",
       "12666    47711 2018-12-29 22:50:57 2018-12-29 21:23:23   1.459444\n",
       "12672    47724 2018-12-31 02:47:53 2018-12-30 13:21:12  13.444722\n",
       "\n",
       "[2792 rows x 4 columns]"
      ]
     },
     "metadata": {},
     "output_type": "display_data"
    },
    {
     "name": "stdout",
     "output_type": "stream",
     "text": [
      "1386 - количество пользователей, которые начинают обучение после выбора сложности и доля таких пользователей от общего количества:  6.96 %\n"
     ]
    }
   ],
   "source": [
    "# создаю признак, где будут пользователи, начавшие обучение после выбора сложности\n",
    "merge_df['time'] = merge_df.tutorial_start_time - merge_df.level_choice_time\n",
    "merge_df['time'] = merge_df['time']/pd.Timedelta(hours = 1) \n",
    "merge_df = merge_df[merge_df['time'] > 0]\n",
    "display(merge_df)\n",
    "\n",
    "# считаем пользователей\n",
    "print(merge_df.user_id.nunique(), '- количество пользователей, которые начинают обучение после выбора сложности' + \n",
    "      ' и доля таких пользователей от общего количества: ', \n",
    "      round(100 * merge_df.user_id.nunique()/count_all_users,2), '%')\n"
   ]
  },
  {
   "cell_type": "markdown",
   "metadata": {},
   "source": [
    "### Вывод: около 7% пользователей начинают обучение после выбора уровня сложности"
   ]
  }
 ],
 "metadata": {
  "kernelspec": {
   "display_name": "Python 3.10.8 64-bit",
   "language": "python",
   "name": "python3"
  },
  "language_info": {
   "codemirror_mode": {
    "name": "ipython",
    "version": 3
   },
   "file_extension": ".py",
   "mimetype": "text/x-python",
   "name": "python",
   "nbconvert_exporter": "python",
   "pygments_lexer": "ipython3",
   "version": "3.10.8"
  },
  "orig_nbformat": 4,
  "vscode": {
   "interpreter": {
    "hash": "2332bbfa07c1fe30b281ddfa27db2880ae19303295470922ee052331d8c17f53"
   }
  }
 },
 "nbformat": 4,
 "nbformat_minor": 2
}
