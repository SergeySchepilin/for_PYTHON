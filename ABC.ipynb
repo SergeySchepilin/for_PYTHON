{
 "cells": [
  {
   "cell_type": "code",
   "execution_count": 1,
   "metadata": {},
   "outputs": [
    {
     "data": {
      "text/plain": [
       "ABC\n",
       "A    878190.62\n",
       "B    163391.90\n",
       "C     55505.40\n",
       "Name: Выручка, dtype: float64"
      ]
     },
     "metadata": {},
     "output_type": "display_data"
    },
    {
     "data": {
      "text/plain": [
       "0.23"
      ]
     },
     "metadata": {},
     "output_type": "display_data"
    }
   ],
   "source": [
    "import pandas as pd\n",
    "# файл для абс анализа\n",
    "# загрузил таблицу, две проблемы: 1 - запятая отделяет десятичную часть, 2 - пробелы между цифрами, пример 1 000, 2 000 и т.д.\n",
    "# это не даёт возможность поменять тип на float64, сами столбцы с такими числами имеют тип object\n",
    "\n",
    "m = pd.read_csv('E:\\Загрузки\\файлы для анализа/abc.csv',\n",
    "                sep=',', decimal=',')  # таблица для абс-анализа\n",
    "x = m.copy()\n",
    "\n",
    "# меняем запятую на точку в питоне\n",
    "x['Выручка'] = [x.replace(',', '.') for x in x['Выручка']]\n",
    "x['Прибыль'] = x['Прибыль'].apply(\n",
    "    lambda x: x.replace(',', '.'))  # 2 способ это сделать\n",
    "\n",
    "# display(x['Прибыль'].loc[::7].head())\n",
    "#0       -695.26\n",
    "# 7        983.55\n",
    "#14      -522.94\n",
    "# 21    -1 561.72 - вот оно\n",
    "# 28       753.61\n",
    "# Name: Прибыль, dtype: object\n",
    "\n",
    "\n",
    "def shift_split(x):  # функция, чтобы убрать пробел между разделителем на 1000\n",
    "\n",
    "    x = x.split()\n",
    "    x = ''.join(x)\n",
    "\n",
    "    return x\n",
    "\n",
    "\n",
    "x['Прибыль'] = x['Прибыль'].apply(shift_split)\n",
    "x['Выручка'] = x['Выручка'].apply(shift_split)\n",
    "x['Прибыль'] = x['Прибыль'].astype('float64')\n",
    "x['Выручка'] = x['Выручка'].astype('float64')\n",
    "x.sort_values('Выручка', ascending=False, inplace=True)\n",
    "x['cumsum'] = x['Выручка'].cumsum()\n",
    "x['percent'] = (x['cumsum']/x['Выручка'].sum()).round(3)\n",
    "x['ABC'] = x['percent'].apply(\n",
    "    lambda x: 'A' if x <= 0.8 else 'B' if x < 0.95 else 'C')\n",
    "display(x.groupby('ABC')['Выручка'].sum())\n",
    "# ABC\n",
    "# A    878190.62\n",
    "# B    163391.90\n",
    "# C     55505.40\n",
    "# Name: Выручка, dtype: float64\n",
    "a = x['Выручка'].sum()\n",
    "b = x['Прибыль'].sum()\n",
    "profitability = b/a\n",
    "display(round(profitability, 2))  # рентабельность равна 0.23 или 23%\n"
   ]
  }
 ],
 "metadata": {
  "kernelspec": {
   "display_name": "Python 3.10.6 64-bit (system)",
   "language": "python",
   "name": "python3"
  },
  "language_info": {
   "codemirror_mode": {
    "name": "ipython",
    "version": 3
   },
   "file_extension": ".py",
   "mimetype": "text/x-python",
   "name": "python",
   "nbconvert_exporter": "python",
   "pygments_lexer": "ipython3",
   "version": "3.10.6"
  },
  "orig_nbformat": 4,
  "vscode": {
   "interpreter": {
    "hash": "14092ea70d9477311b3ed0b56bd9b5b6835584962eff0538d401c254502001a2"
   }
  }
 },
 "nbformat": 4,
 "nbformat_minor": 2
}
