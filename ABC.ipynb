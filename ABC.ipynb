{
 "cells": [
  {
   "cell_type": "code",
   "execution_count": 7,
   "metadata": {},
   "outputs": [
    {
     "data": {
      "text/plain": [
       "0       -695,26\n",
       "7        983,55\n",
       "14      -522,94\n",
       "21    -1 561,72\n",
       "28       753,61\n",
       "Name: Прибыль, dtype: object"
      ]
     },
     "metadata": {},
     "output_type": "display_data"
    },
    {
     "data": {
      "text/plain": [
       "'пример необработанных данных'"
      ]
     },
     "metadata": {},
     "output_type": "display_data"
    },
    {
     "data": {
      "text/plain": [
       "ABC\n",
       "A    878190.62\n",
       "B    163391.90\n",
       "C     55505.40\n",
       "Name: Выручка, dtype: float64"
      ]
     },
     "metadata": {},
     "output_type": "display_data"
    },
    {
     "data": {
      "text/plain": [
       "'итог АБС-анализа'"
      ]
     },
     "metadata": {},
     "output_type": "display_data"
    },
    {
     "data": {
      "text/plain": [
       "0.23"
      ]
     },
     "metadata": {},
     "output_type": "display_data"
    },
    {
     "data": {
      "text/plain": [
       "'расчёт рентабельности'"
      ]
     },
     "metadata": {},
     "output_type": "display_data"
    },
    {
     "data": {
      "text/html": [
       "<div>\n",
       "<style scoped>\n",
       "    .dataframe tbody tr th:only-of-type {\n",
       "        vertical-align: middle;\n",
       "    }\n",
       "\n",
       "    .dataframe tbody tr th {\n",
       "        vertical-align: top;\n",
       "    }\n",
       "\n",
       "    .dataframe thead th {\n",
       "        text-align: right;\n",
       "    }\n",
       "</style>\n",
       "<table border=\"1\" class=\"dataframe\">\n",
       "  <thead>\n",
       "    <tr style=\"text-align: right;\">\n",
       "      <th></th>\n",
       "      <th>Продукт</th>\n",
       "      <th>ABC</th>\n",
       "    </tr>\n",
       "  </thead>\n",
       "  <tbody>\n",
       "    <tr>\n",
       "      <th>20</th>\n",
       "      <td>Canon imageCLASS 2200 Advanced Copier</td>\n",
       "      <td>A</td>\n",
       "    </tr>\n",
       "    <tr>\n",
       "      <th>45</th>\n",
       "      <td>Canon Image Class D660 Copier</td>\n",
       "      <td>A</td>\n",
       "    </tr>\n",
       "    <tr>\n",
       "      <th>85</th>\n",
       "      <td>Polycom ViewStationв„ў Adapter H323 Videoconfe...</td>\n",
       "      <td>A</td>\n",
       "    </tr>\n",
       "    <tr>\n",
       "      <th>55</th>\n",
       "      <td>Canon PC1060 Personal Laser Copier</td>\n",
       "      <td>A</td>\n",
       "    </tr>\n",
       "    <tr>\n",
       "      <th>422</th>\n",
       "      <td>Fellowes PB500 Electric Punch Plastic Comb Bin...</td>\n",
       "      <td>A</td>\n",
       "    </tr>\n",
       "    <tr>\n",
       "      <th>...</th>\n",
       "      <td>...</td>\n",
       "      <td>...</td>\n",
       "    </tr>\n",
       "    <tr>\n",
       "      <th>27</th>\n",
       "      <td>Deflect-o DuraMat Antistatic Studded Beveled M...</td>\n",
       "      <td>A</td>\n",
       "    </tr>\n",
       "    <tr>\n",
       "      <th>299</th>\n",
       "      <td>Hand-Finished Solid Wood Document Frame</td>\n",
       "      <td>A</td>\n",
       "    </tr>\n",
       "    <tr>\n",
       "      <th>40</th>\n",
       "      <td>Euro Pro Shark Stick Mini Vacuum</td>\n",
       "      <td>A</td>\n",
       "    </tr>\n",
       "    <tr>\n",
       "      <th>539</th>\n",
       "      <td>Premier Elliptical Ring Binder, Black</td>\n",
       "      <td>A</td>\n",
       "    </tr>\n",
       "    <tr>\n",
       "      <th>613</th>\n",
       "      <td>Vinyl Sectional Post Binders</td>\n",
       "      <td>A</td>\n",
       "    </tr>\n",
       "  </tbody>\n",
       "</table>\n",
       "<p>184 rows × 2 columns</p>\n",
       "</div>"
      ],
      "text/plain": [
       "                                               Продукт ABC\n",
       "20               Canon imageCLASS 2200 Advanced Copier   A\n",
       "45                       Canon Image Class D660 Copier   A\n",
       "85   Polycom ViewStationв„ў Adapter H323 Videoconfe...   A\n",
       "55                  Canon PC1060 Personal Laser Copier   A\n",
       "422  Fellowes PB500 Electric Punch Plastic Comb Bin...   A\n",
       "..                                                 ...  ..\n",
       "27   Deflect-o DuraMat Antistatic Studded Beveled M...   A\n",
       "299            Hand-Finished Solid Wood Document Frame   A\n",
       "40                    Euro Pro Shark Stick Mini Vacuum   A\n",
       "539              Premier Elliptical Ring Binder, Black   A\n",
       "613                       Vinyl Sectional Post Binders   A\n",
       "\n",
       "[184 rows x 2 columns]"
      ]
     },
     "metadata": {},
     "output_type": "display_data"
    },
    {
     "data": {
      "text/plain": [
       "'товары группы А'"
      ]
     },
     "metadata": {},
     "output_type": "display_data"
    }
   ],
   "source": [
    "import pandas as pd\n",
    "# файл для абс анализа\n",
    "# загрузил таблицу, две проблемы: 1 - запятая отделяет десятичную часть, 2 - пробелы между цифрами, пример 1 000, 2 000 и т.д.\n",
    "# это не даёт возможность поменять тип на float64, сами столбцы с такими числами имеют тип object\n",
    "\n",
    "m = pd.read_csv('E:\\Загрузки\\файлы для анализа/abc.csv',\n",
    "                sep=',', decimal=',')  # таблица для абс-анализа\n",
    "x = m.copy()\n",
    "\n",
    "display(x['Прибыль'].loc[::7].head(), 'пример необработанных данных')\n",
    "\n",
    "# меняем запятую на точку в питоне\n",
    "x['Выручка'] = [x.replace(',', '.') for x in x['Выручка']]\n",
    "x['Прибыль'] = x['Прибыль'].apply(\n",
    "    lambda x: x.replace(',', '.'))  # 2 способ это сделать\n",
    "\n",
    "def shift_split(x):  # функция, чтобы убрать пробел между разделителем на 1000\n",
    "    x = x.split()\n",
    "    x = ''.join(x)\n",
    "    return x\n",
    "\n",
    "x['Прибыль'] = x['Прибыль'].apply(shift_split)\n",
    "x['Выручка'] = x['Выручка'].apply(shift_split)\n",
    "x['Прибыль'] = x['Прибыль'].astype('float64')\n",
    "x['Выручка'] = x['Выручка'].astype('float64')\n",
    "x.sort_values('Выручка', ascending=False, inplace=True)\n",
    "x['cumsum'] = x['Выручка'].cumsum()\n",
    "x['percent'] = (x['cumsum']/x['Выручка'].sum()).round(3)\n",
    "x['ABC'] = x['percent'].apply(\n",
    "    lambda x: 'A' if x <= 0.8 else 'B' if x < 0.95 else 'C')\n",
    "\n",
    "display(x.groupby('ABC')['Выручка'].sum(), 'итог АБС-анализа')\n",
    "\n",
    "a = x['Выручка'].sum()\n",
    "b = x['Прибыль'].sum()\n",
    "profitability = b/a\n",
    "\n",
    "display(round(profitability, 2), 'расчёт рентабельности')  # рентабельность равна 0.23 или 23%\n",
    "\n",
    "mask = x['ABC']=='A'\n",
    "display(x[mask][['Продукт', 'ABC']], 'товары группы А')\n"
   ]
  }
 ],
 "metadata": {
  "kernelspec": {
   "display_name": "Python 3.10.6 64-bit (system)",
   "language": "python",
   "name": "python3"
  },
  "language_info": {
   "codemirror_mode": {
    "name": "ipython",
    "version": 3
   },
   "file_extension": ".py",
   "mimetype": "text/x-python",
   "name": "python",
   "nbconvert_exporter": "python",
   "pygments_lexer": "ipython3",
   "version": "3.10.6"
  },
  "orig_nbformat": 4,
  "vscode": {
   "interpreter": {
    "hash": "14092ea70d9477311b3ed0b56bd9b5b6835584962eff0538d401c254502001a2"
   }
  }
 },
 "nbformat": 4,
 "nbformat_minor": 2
}
