{
 "cells": [
  {
   "cell_type": "markdown",
   "metadata": {},
   "source": [
    "# файл для абс анализа номенклатуры\n"
   ]
  },
  {
   "cell_type": "code",
   "execution_count": 122,
   "metadata": {},
   "outputs": [
    {
     "data": {
      "text/plain": [
       "0       -695,26\n",
       "7        983,55\n",
       "14      -522,94\n",
       "21    -1 561,72\n",
       "28       753,61\n",
       "Name: Прибыль, dtype: object"
      ]
     },
     "metadata": {},
     "output_type": "display_data"
    },
    {
     "data": {
      "text/plain": [
       "'пример необработанных данных'"
      ]
     },
     "metadata": {},
     "output_type": "display_data"
    }
   ],
   "source": [
    "import matplotlib.pyplot as plt\n",
    "import pandas as pd\n",
    "%matplotlib inline\n",
    "\n",
    "# Загрузил таблицу, две проблемы: 1 - запятая отделяет десятичную часть, 2 - пробелы между цифрами, пример 1 000, 2 000 и т.д.\n",
    "# Это не даёт возможность поменять тип на float64, сами столбцы с такими числами имеют тип object\n",
    "m = pd.read_csv('E:\\Загрузки\\файлы для анализа/abc.csv',\n",
    "                sep=',', decimal=',')  # таблица для абс-анализа\n",
    "orders = m.copy()\n",
    "\n",
    "display(orders['Прибыль'].loc[::7].head(), 'пример необработанных данных')"
   ]
  },
  {
   "cell_type": "markdown",
   "metadata": {},
   "source": [
    "# Подготовка данных к анализу"
   ]
  },
  {
   "cell_type": "code",
   "execution_count": 123,
   "metadata": {},
   "outputs": [],
   "source": [
    "# меняем запятую на точку в питоне\n",
    "orders['Выручка'] = [x.replace(',', '.') for x in orders['Выручка']]\n",
    "orders['Прибыль'] = orders['Прибыль'].apply(\n",
    "    lambda x: x.replace(',', '.'))  # 2 способ это сделать\n",
    "\n",
    "def shift_split(x):  # функция, чтобы убрать пробел между разделителем на 1000\n",
    "    x = x.split()\n",
    "    x = ''.join(x)\n",
    "    return x\n",
    "\n",
    "orders['Прибыль'] = orders['Прибыль'].apply(shift_split) #применяем метод + функцию к столбцам\n",
    "orders['Выручка'] = orders['Выручка'].apply(shift_split)\n",
    "orders['Прибыль'] = orders['Прибыль'].astype('float64') #меняем тип данных\n",
    "orders['Выручка'] = orders['Выручка'].astype('float64')\n",
    "\n",
    "# Готовим новые признаки(столбцы) для анализа\n",
    "set_abc = orders.groupby('Продукт', as_index = False)[['Прибыль', 'Выручка']].sum() #сохраним нужные данные в переменную - y\n",
    "set_abc.sort_values('Выручка', ascending = False, inplace = True)\n",
    "set_abc['cumsum'] = set_abc['Выручка'].cumsum()\n",
    "set_abc['percent'] = (set_abc['cumsum']/set_abc['Выручка'].sum()).round(3)\n",
    "set_abc['ABC'] = set_abc['percent'].apply(\n",
    "   lambda x: 'A' if x <= 0.8 else 'B' if x <= 0.95 else 'C')\n",
    "\n"
   ]
  },
  {
   "cell_type": "markdown",
   "metadata": {},
   "source": [
    "# Выручка по группам ABC"
   ]
  },
  {
   "cell_type": "code",
   "execution_count": 124,
   "metadata": {},
   "outputs": [
    {
     "data": {
      "text/plain": [
       "ABC\n",
       "A    876766.22\n",
       "B    165427.65\n",
       "C     54894.05\n",
       "Name: Выручка, dtype: float64"
      ]
     },
     "metadata": {},
     "output_type": "display_data"
    },
    {
     "data": {
      "text/plain": [
       "'итог АБС-анализа'"
      ]
     },
     "metadata": {},
     "output_type": "display_data"
    }
   ],
   "source": [
    "display(set_abc.groupby('ABC')['Выручка'].sum(), 'итог АБС-анализа')"
   ]
  },
  {
   "cell_type": "markdown",
   "metadata": {},
   "source": [
    "# Рентабельность и Товары группы А"
   ]
  },
  {
   "cell_type": "code",
   "execution_count": 125,
   "metadata": {},
   "outputs": [
    {
     "name": "stdout",
     "output_type": "stream",
     "text": [
      "0.23 - расчёт рентабельности\n"
     ]
    },
    {
     "data": {
      "text/html": [
       "<div>\n",
       "<style scoped>\n",
       "    .dataframe tbody tr th:only-of-type {\n",
       "        vertical-align: middle;\n",
       "    }\n",
       "\n",
       "    .dataframe tbody tr th {\n",
       "        vertical-align: top;\n",
       "    }\n",
       "\n",
       "    .dataframe thead th {\n",
       "        text-align: right;\n",
       "    }\n",
       "</style>\n",
       "<table border=\"1\" class=\"dataframe\">\n",
       "  <thead>\n",
       "    <tr style=\"text-align: right;\">\n",
       "      <th></th>\n",
       "      <th>Продукт</th>\n",
       "      <th>ABC</th>\n",
       "    </tr>\n",
       "  </thead>\n",
       "  <tbody>\n",
       "    <tr>\n",
       "      <th>310</th>\n",
       "      <td>Sharp AL-1530CS Digital Copier</td>\n",
       "      <td>A</td>\n",
       "    </tr>\n",
       "    <tr>\n",
       "      <th>111</th>\n",
       "      <td>Canon PC1060 Personal Laser Copier</td>\n",
       "      <td>A</td>\n",
       "    </tr>\n",
       "    <tr>\n",
       "      <th>112</th>\n",
       "      <td>Canon imageCLASS 2200 Advanced Copier</td>\n",
       "      <td>A</td>\n",
       "    </tr>\n",
       "    <tr>\n",
       "      <th>9</th>\n",
       "      <td>2160i</td>\n",
       "      <td>A</td>\n",
       "    </tr>\n",
       "    <tr>\n",
       "      <th>225</th>\n",
       "      <td>Hoover WindTunnelв„ў Plus Canister Vacuum</td>\n",
       "      <td>A</td>\n",
       "    </tr>\n",
       "    <tr>\n",
       "      <th>...</th>\n",
       "      <td>...</td>\n",
       "      <td>...</td>\n",
       "    </tr>\n",
       "    <tr>\n",
       "      <th>265</th>\n",
       "      <td>MicroTAC 650</td>\n",
       "      <td>A</td>\n",
       "    </tr>\n",
       "    <tr>\n",
       "      <th>441</th>\n",
       "      <td>g520</td>\n",
       "      <td>A</td>\n",
       "    </tr>\n",
       "    <tr>\n",
       "      <th>317</th>\n",
       "      <td>Southworth 25% Cotton Premium Laser Paper and ...</td>\n",
       "      <td>A</td>\n",
       "    </tr>\n",
       "    <tr>\n",
       "      <th>270</th>\n",
       "      <td>Motorola SB4200 Cable Modem</td>\n",
       "      <td>A</td>\n",
       "    </tr>\n",
       "    <tr>\n",
       "      <th>353</th>\n",
       "      <td>Tennsco Industrial Shelving</td>\n",
       "      <td>A</td>\n",
       "    </tr>\n",
       "  </tbody>\n",
       "</table>\n",
       "<p>113 rows × 2 columns</p>\n",
       "</div>"
      ],
      "text/plain": [
       "                                               Продукт ABC\n",
       "310                     Sharp AL-1530CS Digital Copier   A\n",
       "111                 Canon PC1060 Personal Laser Copier   A\n",
       "112              Canon imageCLASS 2200 Advanced Copier   A\n",
       "9                                                2160i   A\n",
       "225          Hoover WindTunnelв„ў Plus Canister Vacuum   A\n",
       "..                                                 ...  ..\n",
       "265                                       MicroTAC 650   A\n",
       "441                                               g520   A\n",
       "317  Southworth 25% Cotton Premium Laser Paper and ...   A\n",
       "270                        Motorola SB4200 Cable Modem   A\n",
       "353                        Tennsco Industrial Shelving   A\n",
       "\n",
       "[113 rows x 2 columns]"
      ]
     },
     "metadata": {},
     "output_type": "display_data"
    },
    {
     "data": {
      "text/plain": [
       "'товары группы А'"
      ]
     },
     "metadata": {},
     "output_type": "display_data"
    }
   ],
   "source": [
    "revenue = set_abc['Выручка'].sum()\n",
    "profit = set_abc['Прибыль'].sum()\n",
    "profitability = profit/revenue\n",
    "print(round(profitability, 2), '- расчёт рентабельности')  # рентабельность равна 0.23 или 23%\n",
    "mask = set_abc['ABC']=='A'\n",
    "display(set_abc[mask][['Продукт', 'ABC']], 'товары группы А')\n"
   ]
  },
  {
   "cell_type": "markdown",
   "metadata": {},
   "source": [
    "# соотношение количества товаров"
   ]
  },
  {
   "cell_type": "code",
   "execution_count": 126,
   "metadata": {},
   "outputs": [
    {
     "data": {
      "text/plain": [
       "C    0.47\n",
       "B    0.28\n",
       "A    0.25\n",
       "Name: ABC, dtype: float64"
      ]
     },
     "metadata": {},
     "output_type": "display_data"
    }
   ],
   "source": [
    "pie = set_abc['ABC'].value_counts() # для графика\n",
    "display(set_abc['ABC'].value_counts(normalize=True).round(2))\n"
   ]
  },
  {
   "cell_type": "code",
   "execution_count": 127,
   "metadata": {},
   "outputs": [
    {
     "data": {
      "image/png": "[encoded data removed]",
      "text/plain": [
       "<Figure size 432x288 with 1 Axes>"
      ]
     },
     "metadata": {},
     "output_type": "display_data"
    }
   ],
   "source": [
    "fig, axes = plt.subplots()\n",
    "axes.pie(pie, labels = pie.index, autopct='%.2f%%')\n",
    "axes.set_title('Доля товаров в группе ABC', fontsize=16);"
   ]
  }
 ],
 "metadata": {
  "kernelspec": {
   "display_name": "Python 3.10.6 64-bit (system)",
   "language": "python",
   "name": "python3"
  },
  "language_info": {
   "codemirror_mode": {
    "name": "ipython",
    "version": 3
   },
   "file_extension": ".py",
   "mimetype": "text/x-python",
   "name": "python",
   "nbconvert_exporter": "python",
   "pygments_lexer": "ipython3",
   "version": "3.10.8"
  },
  "orig_nbformat": 4,
  "vscode": {
   "interpreter": {
    "hash": "14092ea70d9477311b3ed0b56bd9b5b6835584962eff0538d401c254502001a2"
   }
  }
 },
 "nbformat": 4,
 "nbformat_minor": 2
}
