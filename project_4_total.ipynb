{
 "cells": [
  {
   "cell_type": "markdown",
   "metadata": {},
   "source": [
    "## ЦЕЛЬ\n",
    "#### Подготовить основу рекомендательной системы."
   ]
  },
  {
   "cell_type": "markdown",
   "metadata": {},
   "source": [
    "### ЗАДАНИЕ\n",
    "#### Вам необходимо оформить таблицу, которая станет основой рекомендательной системы.\n",
    "\n",
    "#### Итоговая таблица должна состоять из трёх столбцов:\n",
    "\n",
    "- Курс, к которому идёт рекомендация.\n",
    "- Курс для рекомендации № 1 (самый популярный).\n",
    "- Курс для рекомендации № 2 (второй по популярности)."
   ]
  },
  {
   "cell_type": "markdown",
   "metadata": {},
   "source": [
    "#### подключаемся к БД"
   ]
  },
  {
   "cell_type": "code",
   "execution_count": 28,
   "metadata": {},
   "outputs": [
    {
     "name": "stdout",
     "output_type": "stream",
     "text": [
      "PostgreSQL connection is closed\n"
     ]
    }
   ],
   "source": [
    "import psycopg2\n",
    "import pandas as pd\n",
    "from collections import Counter\n",
    "import seaborn as sns\n",
    "import matplotlib.pyplot as plt\n",
    "%matplotlib inline\n",
    "\n",
    "try:\n",
    "    connection = psycopg2.connect(\n",
    "        dbname='skillfactory',                          \n",
    "        user='skillfactory',                           \n",
    "        host='84.201.134.129',                           \n",
    "        password='cCkxxLVrDE8EbvjueeMedPKt',\n",
    "        port=5432\n",
    "    )\n",
    "    cursor = connection.cursor()\n",
    "    # готовим файл с данными по продажам курсов в разрезе пользователей (купивших более одного курса)\n",
    "    cursor.execute(\n",
    "    \"\"\"with info_t as(\n",
    "    SELECT user_id\n",
    "    FROM final.carts c\n",
    "    JOIN final.cart_items ci ON c.id=ci.cart_id\n",
    "    WHERE state='successful' AND resource_type='Course'\n",
    "    GROUP BY 1\n",
    "    HAVING count(distinct resource_id) >1)\n",
    "    \n",
    "    SELECT distinct user_id, Resource_ID\n",
    "    FROM final.carts c\n",
    "    JOIN final.cart_items ci ON c.id=ci.cart_id\n",
    "    WHERE state='successful' AND resource_type='Course' AND user_id in (select user_id from info_t)\n",
    "    ORDER BY 1 desc,2;\"\"\")\n",
    "    record = cursor.fetchall()\n",
    "except (Exception, psycopg2.Error) as error:\n",
    "    print(\"Error while connecting to PostgreSQL\", error)\n",
    "finally:\n",
    "    if connection:\n",
    "        cursor.close()\n",
    "        connection.close()\n",
    "        print(\"PostgreSQL connection is closed\")"
   ]
  },
  {
   "cell_type": "markdown",
   "metadata": {},
   "source": [
    "#### делаю таблицу с данными по продажам курсов в разрезе пользователей (купивших более одного курса)."
   ]
  },
  {
   "cell_type": "code",
   "execution_count": 29,
   "metadata": {},
   "outputs": [
    {
     "name": "stdout",
     "output_type": "stream",
     "text": [
      "<class 'pandas.core.frame.DataFrame'>\n",
      "RangeIndex: 34074 entries, 0 to 34073\n",
      "Data columns (total 2 columns):\n",
      " #   Column     Non-Null Count  Dtype\n",
      "---  ------     --------------  -----\n",
      " 0   user_id    34074 non-null  int64\n",
      " 1   course_id  34074 non-null  int64\n",
      "dtypes: int64(2)\n",
      "memory usage: 532.5 KB\n"
     ]
    }
   ],
   "source": [
    "# делаю датафрейм и оставлю список record\n",
    "record_df = pd.DataFrame(record)\n",
    "record_df.columns = ['user_id', 'course_id']\n",
    "record_df.info()"
   ]
  },
  {
   "cell_type": "code",
   "execution_count": 30,
   "metadata": {},
   "outputs": [
    {
     "data": {
      "text/plain": [
       "[(551, 2935),\n",
       " (566, 2342),\n",
       " (515, 1311),\n",
       " (489, 1125),\n",
       " (490, 1084),\n",
       " (523, 1053),\n",
       " (514, 983),\n",
       " (794, 875),\n",
       " (745, 829),\n",
       " (570, 720)]"
      ]
     },
     "execution_count": 30,
     "metadata": {},
     "output_type": "execute_result"
    }
   ],
   "source": [
    "record = Counter(record_df['course_id']).most_common() # наиболее популярные курсы\n",
    "record[:10] # использую это ниже в расчётах"
   ]
  },
  {
   "cell_type": "code",
   "execution_count": 31,
   "metadata": {},
   "outputs": [
    {
     "data": {
      "text/html": [
       "<div>\n",
       "<style scoped>\n",
       "    .dataframe tbody tr th:only-of-type {\n",
       "        vertical-align: middle;\n",
       "    }\n",
       "\n",
       "    .dataframe tbody tr th {\n",
       "        vertical-align: top;\n",
       "    }\n",
       "\n",
       "    .dataframe thead th {\n",
       "        text-align: right;\n",
       "    }\n",
       "</style>\n",
       "<table border=\"1\" class=\"dataframe\">\n",
       "  <thead>\n",
       "    <tr style=\"text-align: right;\">\n",
       "      <th></th>\n",
       "      <th>user_id</th>\n",
       "      <th>course_id</th>\n",
       "    </tr>\n",
       "  </thead>\n",
       "  <tbody>\n",
       "    <tr>\n",
       "      <th>0</th>\n",
       "      <td>51</td>\n",
       "      <td>[516, 1099]</td>\n",
       "    </tr>\n",
       "    <tr>\n",
       "      <th>1</th>\n",
       "      <td>6117</td>\n",
       "      <td>[356, 357, 1125]</td>\n",
       "    </tr>\n",
       "    <tr>\n",
       "      <th>2</th>\n",
       "      <td>10275</td>\n",
       "      <td>[553, 1147]</td>\n",
       "    </tr>\n",
       "    <tr>\n",
       "      <th>3</th>\n",
       "      <td>10457</td>\n",
       "      <td>[361, 1138]</td>\n",
       "    </tr>\n",
       "    <tr>\n",
       "      <th>4</th>\n",
       "      <td>17166</td>\n",
       "      <td>[356, 357]</td>\n",
       "    </tr>\n",
       "    <tr>\n",
       "      <th>...</th>\n",
       "      <td>...</td>\n",
       "      <td>...</td>\n",
       "    </tr>\n",
       "    <tr>\n",
       "      <th>12651</th>\n",
       "      <td>2179430</td>\n",
       "      <td>[566, 750]</td>\n",
       "    </tr>\n",
       "    <tr>\n",
       "      <th>12652</th>\n",
       "      <td>2186581</td>\n",
       "      <td>[794, 864, 1129]</td>\n",
       "    </tr>\n",
       "    <tr>\n",
       "      <th>12653</th>\n",
       "      <td>2187601</td>\n",
       "      <td>[356, 553, 571, 765, 912]</td>\n",
       "    </tr>\n",
       "    <tr>\n",
       "      <th>12654</th>\n",
       "      <td>2188926</td>\n",
       "      <td>[515, 743]</td>\n",
       "    </tr>\n",
       "    <tr>\n",
       "      <th>12655</th>\n",
       "      <td>2190141</td>\n",
       "      <td>[756, 794, 1185]</td>\n",
       "    </tr>\n",
       "  </tbody>\n",
       "</table>\n",
       "<p>12656 rows × 2 columns</p>\n",
       "</div>"
      ],
      "text/plain": [
       "       user_id                  course_id\n",
       "0           51                [516, 1099]\n",
       "1         6117           [356, 357, 1125]\n",
       "2        10275                [553, 1147]\n",
       "3        10457                [361, 1138]\n",
       "4        17166                 [356, 357]\n",
       "...        ...                        ...\n",
       "12651  2179430                 [566, 750]\n",
       "12652  2186581           [794, 864, 1129]\n",
       "12653  2187601  [356, 553, 571, 765, 912]\n",
       "12654  2188926                 [515, 743]\n",
       "12655  2190141           [756, 794, 1185]\n",
       "\n",
       "[12656 rows x 2 columns]"
      ]
     },
     "execution_count": 31,
     "metadata": {},
     "output_type": "execute_result"
    }
   ],
   "source": [
    "record_df = record_df.groupby('user_id', as_index = False)['course_id'].agg(list) # группирую в список курсы пользователей\n",
    "record_df"
   ]
  },
  {
   "cell_type": "code",
   "execution_count": 32,
   "metadata": {},
   "outputs": [
    {
     "name": "stdout",
     "output_type": "stream",
     "text": [
      "3989\n",
      "[((551, 566), 797),\n",
      " ((515, 551), 417),\n",
      " ((489, 551), 311),\n",
      " ((523, 551), 304),\n",
      " ((566, 794), 290),\n",
      " ((489, 515), 286),\n",
      " ((490, 566), 253),\n",
      " ((490, 551), 247),\n",
      " ((570, 752), 247),\n",
      " ((569, 572), 216)]\n"
     ]
    }
   ],
   "source": [
    "import itertools # импортирую для удобства библиотеку\n",
    "from pprint import pprint\n",
    "\n",
    "# переберу по парам все курсы\n",
    "list_courses = list()\n",
    "for course in record_df['course_id']:\n",
    "    for x in itertools.combinations(course, 2):  \n",
    "        list_courses.append(x)\n",
    "        \n",
    "x_counter = Counter(list_courses) # здесь счётчик групп\n",
    "x_counter = x_counter.most_common()\n",
    "print(len(x_counter)) # число пар курсов\n",
    "pprint(x_counter[:10])"
   ]
  },
  {
   "cell_type": "code",
   "execution_count": 33,
   "metadata": {},
   "outputs": [
    {
     "data": {
      "text/html": [
       "<div>\n",
       "<style scoped>\n",
       "    .dataframe tbody tr th:only-of-type {\n",
       "        vertical-align: middle;\n",
       "    }\n",
       "\n",
       "    .dataframe tbody tr th {\n",
       "        vertical-align: top;\n",
       "    }\n",
       "\n",
       "    .dataframe thead th {\n",
       "        text-align: right;\n",
       "    }\n",
       "</style>\n",
       "<table border=\"1\" class=\"dataframe\">\n",
       "  <thead>\n",
       "    <tr style=\"text-align: right;\">\n",
       "      <th></th>\n",
       "      <th>0</th>\n",
       "      <th>1</th>\n",
       "    </tr>\n",
       "  </thead>\n",
       "  <tbody>\n",
       "    <tr>\n",
       "      <th>0</th>\n",
       "      <td>(551, 566)</td>\n",
       "      <td>797</td>\n",
       "    </tr>\n",
       "    <tr>\n",
       "      <th>1</th>\n",
       "      <td>(515, 551)</td>\n",
       "      <td>417</td>\n",
       "    </tr>\n",
       "    <tr>\n",
       "      <th>2</th>\n",
       "      <td>(489, 551)</td>\n",
       "      <td>311</td>\n",
       "    </tr>\n",
       "    <tr>\n",
       "      <th>3</th>\n",
       "      <td>(523, 551)</td>\n",
       "      <td>304</td>\n",
       "    </tr>\n",
       "    <tr>\n",
       "      <th>4</th>\n",
       "      <td>(566, 794)</td>\n",
       "      <td>290</td>\n",
       "    </tr>\n",
       "    <tr>\n",
       "      <th>...</th>\n",
       "      <td>...</td>\n",
       "      <td>...</td>\n",
       "    </tr>\n",
       "    <tr>\n",
       "      <th>3984</th>\n",
       "      <td>(741, 791)</td>\n",
       "      <td>1</td>\n",
       "    </tr>\n",
       "    <tr>\n",
       "      <th>3985</th>\n",
       "      <td>(361, 1128)</td>\n",
       "      <td>1</td>\n",
       "    </tr>\n",
       "    <tr>\n",
       "      <th>3986</th>\n",
       "      <td>(743, 1156)</td>\n",
       "      <td>1</td>\n",
       "    </tr>\n",
       "    <tr>\n",
       "      <th>3987</th>\n",
       "      <td>(864, 1129)</td>\n",
       "      <td>1</td>\n",
       "    </tr>\n",
       "    <tr>\n",
       "      <th>3988</th>\n",
       "      <td>(756, 1185)</td>\n",
       "      <td>1</td>\n",
       "    </tr>\n",
       "  </tbody>\n",
       "</table>\n",
       "<p>3989 rows × 2 columns</p>\n",
       "</div>"
      ],
      "text/plain": [
       "                0    1\n",
       "0      (551, 566)  797\n",
       "1      (515, 551)  417\n",
       "2      (489, 551)  311\n",
       "3      (523, 551)  304\n",
       "4      (566, 794)  290\n",
       "...           ...  ...\n",
       "3984   (741, 791)    1\n",
       "3985  (361, 1128)    1\n",
       "3986  (743, 1156)    1\n",
       "3987  (864, 1129)    1\n",
       "3988  (756, 1185)    1\n",
       "\n",
       "[3989 rows x 2 columns]"
      ]
     },
     "execution_count": 33,
     "metadata": {},
     "output_type": "execute_result"
    }
   ],
   "source": [
    "x_counter_df = pd.DataFrame(x_counter)\n",
    "x_counter_df = x_counter_df # таблица популярных пар курсов\n",
    "x_counter_df "
   ]
  },
  {
   "cell_type": "code",
   "execution_count": 34,
   "metadata": {},
   "outputs": [
    {
     "name": "stdout",
     "output_type": "stream",
     "text": [
      "PostgreSQL connection is closed\n",
      "[(68989,)]\n"
     ]
    }
   ],
   "source": [
    "try:\n",
    "    connection = psycopg2.connect(\n",
    "        dbname='skillfactory',                          \n",
    "        user='skillfactory',                           \n",
    "        host='84.201.134.129',                           \n",
    "        password='cCkxxLVrDE8EbvjueeMedPKt',\n",
    "        port=5432\n",
    "    )\n",
    "    cursor = connection.cursor()\n",
    "    # файл с данными по продажам курсов в разрезе пользователей (купивших более одного курса)\n",
    "    cursor.execute(\n",
    "    \"\"\"SELECT count(distinct user_id)\n",
    "    FROM final.carts c\n",
    "    JOIN final.cart_items ci ON c.id=ci.cart_id\n",
    "    WHERE resource_type='Course'\n",
    "\t;\"\"\")\n",
    "    all_users = cursor.fetchall()\n",
    "except (Exception, psycopg2.Error) as error:\n",
    "    print(\"Error while connecting to PostgreSQL\", error)\n",
    "finally:\n",
    "    if connection:\n",
    "        cursor.close()\n",
    "        connection.close()\n",
    "        print(\"PostgreSQL connection is closed\")\n",
    "        \n",
    "print(all_users)"
   ]
  },
  {
   "cell_type": "markdown",
   "metadata": {},
   "source": [
    "Чтобы сделать задание, надо бы исследовать аудиторию, которая покупает курсы, но таких данных у нас нет. Но что-то сделать можно.\n",
    "При исследовании данных я выяснил, что курсы рассматривали 68989 человек, покупали 49_006(71% от всех пользователей) человек, более одного курса купили - 12_656(25.8% от купивших курс или 18.34% от всех пользователей) человек и в среднем покупают 1.44 курса на человека, а также всего 127 видов курсов."
   ]
  },
  {
   "cell_type": "code",
   "execution_count": 35,
   "metadata": {},
   "outputs": [
    {
     "data": {
      "text/html": [
       "<div>\n",
       "<style scoped>\n",
       "    .dataframe tbody tr th:only-of-type {\n",
       "        vertical-align: middle;\n",
       "    }\n",
       "\n",
       "    .dataframe tbody tr th {\n",
       "        vertical-align: top;\n",
       "    }\n",
       "\n",
       "    .dataframe thead th {\n",
       "        text-align: right;\n",
       "    }\n",
       "</style>\n",
       "<table border=\"1\" class=\"dataframe\">\n",
       "  <thead>\n",
       "    <tr style=\"text-align: right;\">\n",
       "      <th></th>\n",
       "      <th>user_id</th>\n",
       "      <th>course_id</th>\n",
       "      <th>lenth</th>\n",
       "    </tr>\n",
       "  </thead>\n",
       "  <tbody>\n",
       "    <tr>\n",
       "      <th>1</th>\n",
       "      <td>6117</td>\n",
       "      <td>[356, 357, 1125]</td>\n",
       "      <td>3</td>\n",
       "    </tr>\n",
       "    <tr>\n",
       "      <th>10</th>\n",
       "      <td>24640</td>\n",
       "      <td>[514, 517, 566]</td>\n",
       "      <td>3</td>\n",
       "    </tr>\n",
       "    <tr>\n",
       "      <th>11</th>\n",
       "      <td>26191</td>\n",
       "      <td>[363, 511, 562, 563]</td>\n",
       "      <td>4</td>\n",
       "    </tr>\n",
       "    <tr>\n",
       "      <th>13</th>\n",
       "      <td>30789</td>\n",
       "      <td>[509, 553, 745]</td>\n",
       "      <td>3</td>\n",
       "    </tr>\n",
       "    <tr>\n",
       "      <th>15</th>\n",
       "      <td>31237</td>\n",
       "      <td>[509, 568, 672]</td>\n",
       "      <td>3</td>\n",
       "    </tr>\n",
       "    <tr>\n",
       "      <th>...</th>\n",
       "      <td>...</td>\n",
       "      <td>...</td>\n",
       "      <td>...</td>\n",
       "    </tr>\n",
       "    <tr>\n",
       "      <th>12636</th>\n",
       "      <td>2147935</td>\n",
       "      <td>[361, 813, 1100, 1124, 1128]</td>\n",
       "      <td>5</td>\n",
       "    </tr>\n",
       "    <tr>\n",
       "      <th>12648</th>\n",
       "      <td>2172942</td>\n",
       "      <td>[504, 569, 840]</td>\n",
       "      <td>3</td>\n",
       "    </tr>\n",
       "    <tr>\n",
       "      <th>12652</th>\n",
       "      <td>2186581</td>\n",
       "      <td>[794, 864, 1129]</td>\n",
       "      <td>3</td>\n",
       "    </tr>\n",
       "    <tr>\n",
       "      <th>12653</th>\n",
       "      <td>2187601</td>\n",
       "      <td>[356, 553, 571, 765, 912]</td>\n",
       "      <td>5</td>\n",
       "    </tr>\n",
       "    <tr>\n",
       "      <th>12655</th>\n",
       "      <td>2190141</td>\n",
       "      <td>[756, 794, 1185]</td>\n",
       "      <td>3</td>\n",
       "    </tr>\n",
       "  </tbody>\n",
       "</table>\n",
       "<p>4602 rows × 3 columns</p>\n",
       "</div>"
      ],
      "text/plain": [
       "       user_id                     course_id  lenth\n",
       "1         6117              [356, 357, 1125]      3\n",
       "10       24640               [514, 517, 566]      3\n",
       "11       26191          [363, 511, 562, 563]      4\n",
       "13       30789               [509, 553, 745]      3\n",
       "15       31237               [509, 568, 672]      3\n",
       "...        ...                           ...    ...\n",
       "12636  2147935  [361, 813, 1100, 1124, 1128]      5\n",
       "12648  2172942               [504, 569, 840]      3\n",
       "12652  2186581              [794, 864, 1129]      3\n",
       "12653  2187601     [356, 553, 571, 765, 912]      5\n",
       "12655  2190141              [756, 794, 1185]      3\n",
       "\n",
       "[4602 rows x 3 columns]"
      ]
     },
     "execution_count": 35,
     "metadata": {},
     "output_type": "execute_result"
    }
   ],
   "source": [
    "# присмотримся к данным\n",
    "record_df['lenth'] = record_df.course_id.apply(len)\n",
    "users_max = record_df[record_df['lenth'] > 2].user_id.nunique()\n",
    "users_max_df = record_df[record_df['lenth'] > 2]\n",
    "users_max_df"
   ]
  },
  {
   "cell_type": "code",
   "execution_count": 36,
   "metadata": {},
   "outputs": [],
   "source": [
    "# 12_656 - 4602 = 8054 (64% - столько пользователей покупает пару курсов) и 4602(36% более 2)"
   ]
  },
  {
   "cell_type": "code",
   "execution_count": 37,
   "metadata": {},
   "outputs": [
    {
     "data": {
      "text/plain": [
       "126"
      ]
     },
     "execution_count": 37,
     "metadata": {},
     "output_type": "execute_result"
    }
   ],
   "source": [
    "# не забудем про популярные курсы\n",
    "dict_record = dict(record) # делал переменную ранее\n",
    "len(dict_record)"
   ]
  },
  {
   "cell_type": "markdown",
   "metadata": {},
   "source": [
    "курсов 127, а в наших данных лишь 126, так как у нас срез по клиентам, которые покупали более 1 курса, возможно один курс не попал в нашу группу. Я нашёл айди такого курса 772, проверим есть ли он в словаре выше."
   ]
  },
  {
   "cell_type": "code",
   "execution_count": 38,
   "metadata": {},
   "outputs": [
    {
     "data": {
      "text/plain": [
       "False"
      ]
     },
     "execution_count": 38,
     "metadata": {},
     "output_type": "execute_result"
    }
   ],
   "source": [
    "772 in dict_record # результат False - значит курс отстуствует. Я проверил, всего два пользователя его создали, но не купили, \n",
    "# возможно курс новый, продолжим. На тот курс не будем обращать внимание, не имеет значимости."
   ]
  },
  {
   "cell_type": "code",
   "execution_count": 39,
   "metadata": {},
   "outputs": [
    {
     "name": "stdout",
     "output_type": "stream",
     "text": [
      "<class 'pandas.core.frame.DataFrame'>\n",
      "Int64Index: 126 entries, 0 to 125\n",
      "Data columns (total 1 columns):\n",
      " #   Column  Non-Null Count  Dtype\n",
      "---  ------  --------------  -----\n",
      " 0   main    126 non-null    int64\n",
      "dtypes: int64(1)\n",
      "memory usage: 2.0 KB\n"
     ]
    }
   ],
   "source": [
    "# попробуем найти пересечения этих курсов(более 2-х)\n",
    "x = Counter()\n",
    "for i in users_max_df.course_id:\n",
    "    x += Counter(i)\n",
    "    \n",
    "x = x.most_common() # популярные курсы при покупках более 2-х, возможно пригодится\n",
    "\n",
    "recommend_df = pd.DataFrame(x) #будущий датафрейм со списком курсов - 126\n",
    "\n",
    "recommend_df = recommend_df.drop(columns = 1)\n",
    "recommend_df.columns = ['main']\n",
    "# recommend_df = recommend_df.astype('string')\n",
    "recommend_df = recommend_df.drop_duplicates() # станет основой для списка курсов\n",
    "recommend_df.info()\n"
   ]
  },
  {
   "cell_type": "code",
   "execution_count": 40,
   "metadata": {},
   "outputs": [
    {
     "name": "stdout",
     "output_type": "stream",
     "text": [
      "<class 'pandas.core.frame.DataFrame'>\n",
      "RangeIndex: 3989 entries, 0 to 3988\n",
      "Data columns (total 3 columns):\n",
      " #   Column   Non-Null Count  Dtype\n",
      "---  ------   --------------  -----\n",
      " 0   rait     3989 non-null   int64\n",
      " 1   course1  3989 non-null   int64\n",
      " 2   course2  3989 non-null   int64\n",
      "dtypes: int64(3)\n",
      "memory usage: 93.6 KB\n"
     ]
    },
    {
     "name": "stderr",
     "output_type": "stream",
     "text": [
      "C:\\Users\\ALFA\\AppData\\Local\\Temp\\ipykernel_13620\\494835344.py:9: FutureWarning: In a future version, `df.iloc[:, i] = newvals` will attempt to set the values inplace instead of always setting a new array. To retain the old behavior, use either `df[df.columns[i]] = newvals` or, if columns are non-unique, `df.isetitem(i, newvals)`\n",
      "  x_counter_df.iloc[:,1:4] = x_counter_df.iloc[:,1:4].astype('int64')\n"
     ]
    }
   ],
   "source": [
    "# таблица популярных пар курсов, которую я делал раньше\n",
    "x_counter_df  = x_counter_df.copy() # чтобы не ругался на ошибки\n",
    "x_counter_df[0]  = x_counter_df[0].apply(list) \n",
    "x_counter_df[0] = x_counter_df[0].apply(lambda x: list(map(str,x))) # надо поделить список по столбцам\n",
    "x_counter_df[2] = x_counter_df[0].apply(lambda x: x[0])\n",
    "x_counter_df[3] = x_counter_df[0].apply(lambda x: x[1])\n",
    "x_counter_df = x_counter_df[[1,2,3]] \n",
    "x_counter_df.columns = ['rait', 'course1', 'course2'] # таблица откуда будем вытаскивать рекомендации для курсов\n",
    "x_counter_df.iloc[:,1:4] = x_counter_df.iloc[:,1:4].astype('int64')\n",
    "x_counter_df.info()"
   ]
  },
  {
   "cell_type": "markdown",
   "metadata": {},
   "source": [
    "### объединяем таблички"
   ]
  },
  {
   "cell_type": "code",
   "execution_count": 41,
   "metadata": {},
   "outputs": [
    {
     "data": {
      "text/html": [
       "<div>\n",
       "<style scoped>\n",
       "    .dataframe tbody tr th:only-of-type {\n",
       "        vertical-align: middle;\n",
       "    }\n",
       "\n",
       "    .dataframe tbody tr th {\n",
       "        vertical-align: top;\n",
       "    }\n",
       "\n",
       "    .dataframe thead th {\n",
       "        text-align: right;\n",
       "    }\n",
       "</style>\n",
       "<table border=\"1\" class=\"dataframe\">\n",
       "  <thead>\n",
       "    <tr style=\"text-align: right;\">\n",
       "      <th></th>\n",
       "      <th>main</th>\n",
       "      <th>recommend_1</th>\n",
       "      <th>rait</th>\n",
       "    </tr>\n",
       "  </thead>\n",
       "  <tbody>\n",
       "    <tr>\n",
       "      <th>0</th>\n",
       "      <td>551</td>\n",
       "      <td>566.0</td>\n",
       "      <td>797.0</td>\n",
       "    </tr>\n",
       "    <tr>\n",
       "      <th>1</th>\n",
       "      <td>566</td>\n",
       "      <td>794.0</td>\n",
       "      <td>290.0</td>\n",
       "    </tr>\n",
       "    <tr>\n",
       "      <th>2</th>\n",
       "      <td>515</td>\n",
       "      <td>551.0</td>\n",
       "      <td>417.0</td>\n",
       "    </tr>\n",
       "    <tr>\n",
       "      <th>3</th>\n",
       "      <td>523</td>\n",
       "      <td>551.0</td>\n",
       "      <td>304.0</td>\n",
       "    </tr>\n",
       "    <tr>\n",
       "      <th>4</th>\n",
       "      <td>489</td>\n",
       "      <td>551.0</td>\n",
       "      <td>311.0</td>\n",
       "    </tr>\n",
       "    <tr>\n",
       "      <th>...</th>\n",
       "      <td>...</td>\n",
       "      <td>...</td>\n",
       "      <td>...</td>\n",
       "    </tr>\n",
       "    <tr>\n",
       "      <th>121</th>\n",
       "      <td>833</td>\n",
       "      <td>NaN</td>\n",
       "      <td>NaN</td>\n",
       "    </tr>\n",
       "    <tr>\n",
       "      <th>122</th>\n",
       "      <td>1199</td>\n",
       "      <td>NaN</td>\n",
       "      <td>NaN</td>\n",
       "    </tr>\n",
       "    <tr>\n",
       "      <th>123</th>\n",
       "      <td>1201</td>\n",
       "      <td>NaN</td>\n",
       "      <td>NaN</td>\n",
       "    </tr>\n",
       "    <tr>\n",
       "      <th>124</th>\n",
       "      <td>902</td>\n",
       "      <td>NaN</td>\n",
       "      <td>NaN</td>\n",
       "    </tr>\n",
       "    <tr>\n",
       "      <th>125</th>\n",
       "      <td>1200</td>\n",
       "      <td>NaN</td>\n",
       "      <td>NaN</td>\n",
       "    </tr>\n",
       "  </tbody>\n",
       "</table>\n",
       "<p>126 rows × 3 columns</p>\n",
       "</div>"
      ],
      "text/plain": [
       "     main  recommend_1   rait\n",
       "0     551        566.0  797.0\n",
       "1     566        794.0  290.0\n",
       "2     515        551.0  417.0\n",
       "3     523        551.0  304.0\n",
       "4     489        551.0  311.0\n",
       "..    ...          ...    ...\n",
       "121   833          NaN    NaN\n",
       "122  1199          NaN    NaN\n",
       "123  1201          NaN    NaN\n",
       "124   902          NaN    NaN\n",
       "125  1200          NaN    NaN\n",
       "\n",
       "[126 rows x 3 columns]"
      ]
     },
     "execution_count": 41,
     "metadata": {},
     "output_type": "execute_result"
    }
   ],
   "source": [
    "total_df = recommend_df.merge(x_counter_df, left_on='main', right_on = 'course1', how ='left')\n",
    "total_df = total_df[['main', 'course2', 'rait']]\n",
    "total_df.rename({'course2': 'recommend_1'}, axis = 1, inplace = True)\n",
    "total_df = total_df.drop_duplicates(subset = 'main').reset_index(drop = True) #проверка на дубли основных курсов\n",
    "total_df # их 126 - всё верно"
   ]
  },
  {
   "cell_type": "code",
   "execution_count": 42,
   "metadata": {},
   "outputs": [
    {
     "name": "stdout",
     "output_type": "stream",
     "text": [
      "<class 'pandas.core.frame.DataFrame'>\n",
      "RangeIndex: 126 entries, 0 to 125\n",
      "Data columns (total 3 columns):\n",
      " #   Column       Non-Null Count  Dtype  \n",
      "---  ------       --------------  -----  \n",
      " 0   main         126 non-null    int64  \n",
      " 1   recommend_1  117 non-null    float64\n",
      " 2   rait         117 non-null    float64\n",
      "dtypes: float64(2), int64(1)\n",
      "memory usage: 3.1 KB\n"
     ]
    }
   ],
   "source": [
    "total_df.info()"
   ]
  },
  {
   "cell_type": "code",
   "execution_count": 43,
   "metadata": {},
   "outputs": [
    {
     "data": {
      "text/html": [
       "<div>\n",
       "<style scoped>\n",
       "    .dataframe tbody tr th:only-of-type {\n",
       "        vertical-align: middle;\n",
       "    }\n",
       "\n",
       "    .dataframe tbody tr th {\n",
       "        vertical-align: top;\n",
       "    }\n",
       "\n",
       "    .dataframe thead th {\n",
       "        text-align: right;\n",
       "    }\n",
       "</style>\n",
       "<table border=\"1\" class=\"dataframe\">\n",
       "  <thead>\n",
       "    <tr style=\"text-align: right;\">\n",
       "      <th></th>\n",
       "      <th>rait</th>\n",
       "      <th>course1</th>\n",
       "      <th>course2</th>\n",
       "    </tr>\n",
       "  </thead>\n",
       "  <tbody>\n",
       "    <tr>\n",
       "      <th>50</th>\n",
       "      <td>100</td>\n",
       "      <td>356</td>\n",
       "      <td>357</td>\n",
       "    </tr>\n",
       "    <tr>\n",
       "      <th>137</th>\n",
       "      <td>52</td>\n",
       "      <td>357</td>\n",
       "      <td>1125</td>\n",
       "    </tr>\n",
       "    <tr>\n",
       "      <th>467</th>\n",
       "      <td>19</td>\n",
       "      <td>358</td>\n",
       "      <td>752</td>\n",
       "    </tr>\n",
       "    <tr>\n",
       "      <th>769</th>\n",
       "      <td>12</td>\n",
       "      <td>359</td>\n",
       "      <td>507</td>\n",
       "    </tr>\n",
       "    <tr>\n",
       "      <th>744</th>\n",
       "      <td>12</td>\n",
       "      <td>360</td>\n",
       "      <td>516</td>\n",
       "    </tr>\n",
       "    <tr>\n",
       "      <th>...</th>\n",
       "      <td>...</td>\n",
       "      <td>...</td>\n",
       "      <td>...</td>\n",
       "    </tr>\n",
       "    <tr>\n",
       "      <th>1400</th>\n",
       "      <td>5</td>\n",
       "      <td>1146</td>\n",
       "      <td>1187</td>\n",
       "    </tr>\n",
       "    <tr>\n",
       "      <th>3829</th>\n",
       "      <td>1</td>\n",
       "      <td>1156</td>\n",
       "      <td>1181</td>\n",
       "    </tr>\n",
       "    <tr>\n",
       "      <th>3901</th>\n",
       "      <td>1</td>\n",
       "      <td>1161</td>\n",
       "      <td>1182</td>\n",
       "    </tr>\n",
       "    <tr>\n",
       "      <th>2313</th>\n",
       "      <td>2</td>\n",
       "      <td>1185</td>\n",
       "      <td>1187</td>\n",
       "    </tr>\n",
       "    <tr>\n",
       "      <th>3043</th>\n",
       "      <td>1</td>\n",
       "      <td>1186</td>\n",
       "      <td>1201</td>\n",
       "    </tr>\n",
       "  </tbody>\n",
       "</table>\n",
       "<p>112 rows × 3 columns</p>\n",
       "</div>"
      ],
      "text/plain": [
       "      rait  course1  course2\n",
       "50     100      356      357\n",
       "137     52      357     1125\n",
       "467     19      358      752\n",
       "769     12      359      507\n",
       "744     12      360      516\n",
       "...    ...      ...      ...\n",
       "1400     5     1146     1187\n",
       "3829     1     1156     1181\n",
       "3901     1     1161     1182\n",
       "2313     2     1185     1187\n",
       "3043     1     1186     1201\n",
       "\n",
       "[112 rows x 3 columns]"
      ]
     },
     "execution_count": 43,
     "metadata": {},
     "output_type": "execute_result"
    }
   ],
   "source": [
    "x_counter_df1 = x_counter_df.copy()\n",
    "x_counter_df1['course1'] = x_counter_df.loc[:, ['course1']].astype('int64')\n",
    "x_counter_df1 = x_counter_df1.sort_values(by = ['course1', 'rait'], ascending = [True, False])\n",
    "x_counter_df1 = x_counter_df1[x_counter_df1.duplicated(subset= 'course1')] # оставляем все дубликаты кроме первых\n",
    "x_counter_df1 = x_counter_df1.drop_duplicates(subset = 'course1') # оставляем только первые дубликаты, которые теперь будут вторыми по популярности\n",
    "x_counter_df1"
   ]
  },
  {
   "cell_type": "markdown",
   "metadata": {},
   "source": [
    "### объединяем таблички"
   ]
  },
  {
   "cell_type": "code",
   "execution_count": 44,
   "metadata": {},
   "outputs": [
    {
     "data": {
      "text/html": [
       "<div>\n",
       "<style scoped>\n",
       "    .dataframe tbody tr th:only-of-type {\n",
       "        vertical-align: middle;\n",
       "    }\n",
       "\n",
       "    .dataframe tbody tr th {\n",
       "        vertical-align: top;\n",
       "    }\n",
       "\n",
       "    .dataframe thead th {\n",
       "        text-align: right;\n",
       "    }\n",
       "</style>\n",
       "<table border=\"1\" class=\"dataframe\">\n",
       "  <thead>\n",
       "    <tr style=\"text-align: right;\">\n",
       "      <th></th>\n",
       "      <th>main</th>\n",
       "      <th>recommend_1</th>\n",
       "      <th>recommend_2</th>\n",
       "    </tr>\n",
       "  </thead>\n",
       "  <tbody>\n",
       "    <tr>\n",
       "      <th>0</th>\n",
       "      <td>551</td>\n",
       "      <td>566.0</td>\n",
       "      <td>552.0</td>\n",
       "    </tr>\n",
       "    <tr>\n",
       "      <th>1</th>\n",
       "      <td>566</td>\n",
       "      <td>794.0</td>\n",
       "      <td>764.0</td>\n",
       "    </tr>\n",
       "    <tr>\n",
       "      <th>2</th>\n",
       "      <td>515</td>\n",
       "      <td>551.0</td>\n",
       "      <td>523.0</td>\n",
       "    </tr>\n",
       "    <tr>\n",
       "      <th>3</th>\n",
       "      <td>523</td>\n",
       "      <td>551.0</td>\n",
       "      <td>552.0</td>\n",
       "    </tr>\n",
       "    <tr>\n",
       "      <th>4</th>\n",
       "      <td>489</td>\n",
       "      <td>551.0</td>\n",
       "      <td>515.0</td>\n",
       "    </tr>\n",
       "    <tr>\n",
       "      <th>...</th>\n",
       "      <td>...</td>\n",
       "      <td>...</td>\n",
       "      <td>...</td>\n",
       "    </tr>\n",
       "    <tr>\n",
       "      <th>121</th>\n",
       "      <td>833</td>\n",
       "      <td>NaN</td>\n",
       "      <td>NaN</td>\n",
       "    </tr>\n",
       "    <tr>\n",
       "      <th>122</th>\n",
       "      <td>1199</td>\n",
       "      <td>NaN</td>\n",
       "      <td>NaN</td>\n",
       "    </tr>\n",
       "    <tr>\n",
       "      <th>123</th>\n",
       "      <td>1201</td>\n",
       "      <td>NaN</td>\n",
       "      <td>NaN</td>\n",
       "    </tr>\n",
       "    <tr>\n",
       "      <th>124</th>\n",
       "      <td>902</td>\n",
       "      <td>NaN</td>\n",
       "      <td>NaN</td>\n",
       "    </tr>\n",
       "    <tr>\n",
       "      <th>125</th>\n",
       "      <td>1200</td>\n",
       "      <td>NaN</td>\n",
       "      <td>NaN</td>\n",
       "    </tr>\n",
       "  </tbody>\n",
       "</table>\n",
       "<p>126 rows × 3 columns</p>\n",
       "</div>"
      ],
      "text/plain": [
       "     main  recommend_1  recommend_2\n",
       "0     551        566.0        552.0\n",
       "1     566        794.0        764.0\n",
       "2     515        551.0        523.0\n",
       "3     523        551.0        552.0\n",
       "4     489        551.0        515.0\n",
       "..    ...          ...          ...\n",
       "121   833          NaN          NaN\n",
       "122  1199          NaN          NaN\n",
       "123  1201          NaN          NaN\n",
       "124   902          NaN          NaN\n",
       "125  1200          NaN          NaN\n",
       "\n",
       "[126 rows x 3 columns]"
      ]
     },
     "execution_count": 44,
     "metadata": {},
     "output_type": "execute_result"
    }
   ],
   "source": [
    "total_df['main'] = total_df['main'].astype('int64')\n",
    "merge_df = total_df.merge(x_counter_df1, left_on='main', right_on='course1', how = 'left')\n",
    "merge_df = merge_df.drop_duplicates(subset = 'main')\n",
    "merge_df = merge_df.drop_duplicates() # проверка на дубли\n",
    "merge_df = merge_df[['main', 'recommend_1', 'course2']] # сохраняем нужные строки\n",
    "merge_df = merge_df.rename({'course2': 'recommend_2'}, axis = 1)\n",
    "merge_df # таблица частично готова"
   ]
  },
  {
   "cell_type": "code",
   "execution_count": 45,
   "metadata": {},
   "outputs": [
    {
     "name": "stdout",
     "output_type": "stream",
     "text": [
      "<class 'pandas.core.frame.DataFrame'>\n",
      "Int64Index: 126 entries, 0 to 125\n",
      "Data columns (total 3 columns):\n",
      " #   Column       Non-Null Count  Dtype  \n",
      "---  ------       --------------  -----  \n",
      " 0   main         126 non-null    int64  \n",
      " 1   recommend_1  117 non-null    float64\n",
      " 2   recommend_2  112 non-null    float64\n",
      "dtypes: float64(2), int64(1)\n",
      "memory usage: 3.9 KB\n"
     ]
    }
   ],
   "source": [
    "merge_df.info()"
   ]
  },
  {
   "cell_type": "markdown",
   "metadata": {},
   "source": [
    "#### что делать с пропусками? вернёмся к x_counter_df, где комбинации пар курсов, возможно, что некоторые курсы не начинают пары."
   ]
  },
  {
   "cell_type": "code",
   "execution_count": 46,
   "metadata": {},
   "outputs": [],
   "source": [
    "merge_df[['recommend_1','recommend_2']] = merge_df[['recommend_1','recommend_2']].fillna(0) # посмотрим на пустые значения и отфильруем их\n",
    "main_list = merge_df['main'][merge_df['recommend_1'] == 0].to_list() # сохраним такие курсы в список\n",
    "main_list2 = merge_df['main'][merge_df['recommend_2'] == 0].to_list() # сохраним такие курсы в список"
   ]
  },
  {
   "cell_type": "code",
   "execution_count": 47,
   "metadata": {},
   "outputs": [
    {
     "data": {
      "text/plain": [
       "[1184, 1188, 1160, 1198, 833, 1199, 1201, 902, 1200]"
      ]
     },
     "execution_count": 47,
     "metadata": {},
     "output_type": "execute_result"
    }
   ],
   "source": [
    "main_list # смотрим на такие пропуски\n"
   ]
  },
  {
   "cell_type": "code",
   "execution_count": 48,
   "metadata": {},
   "outputs": [
    {
     "data": {
      "text/plain": [
       "[1152,\n",
       " 1184,\n",
       " 1187,\n",
       " 1181,\n",
       " 1147,\n",
       " 1188,\n",
       " 1160,\n",
       " 1198,\n",
       " 1182,\n",
       " 833,\n",
       " 1199,\n",
       " 1201,\n",
       " 902,\n",
       " 1200]"
      ]
     },
     "execution_count": 48,
     "metadata": {},
     "output_type": "execute_result"
    }
   ],
   "source": [
    "main_list2"
   ]
  },
  {
   "cell_type": "markdown",
   "metadata": {},
   "source": [
    "####  смотрим пары курсов, которые заканчивались на курсы из списка"
   ]
  },
  {
   "cell_type": "code",
   "execution_count": 49,
   "metadata": {},
   "outputs": [
    {
     "data": {
      "text/html": [
       "<div>\n",
       "<style scoped>\n",
       "    .dataframe tbody tr th:only-of-type {\n",
       "        vertical-align: middle;\n",
       "    }\n",
       "\n",
       "    .dataframe tbody tr th {\n",
       "        vertical-align: top;\n",
       "    }\n",
       "\n",
       "    .dataframe thead th {\n",
       "        text-align: right;\n",
       "    }\n",
       "</style>\n",
       "<table border=\"1\" class=\"dataframe\">\n",
       "  <thead>\n",
       "    <tr style=\"text-align: right;\">\n",
       "      <th></th>\n",
       "      <th>rait</th>\n",
       "      <th>course1</th>\n",
       "      <th>course2</th>\n",
       "    </tr>\n",
       "  </thead>\n",
       "  <tbody>\n",
       "    <tr>\n",
       "      <th>4</th>\n",
       "      <td>32</td>\n",
       "      <td>745</td>\n",
       "      <td>1187</td>\n",
       "    </tr>\n",
       "    <tr>\n",
       "      <th>28</th>\n",
       "      <td>27</td>\n",
       "      <td>752</td>\n",
       "      <td>1184</td>\n",
       "    </tr>\n",
       "    <tr>\n",
       "      <th>2</th>\n",
       "      <td>27</td>\n",
       "      <td>752</td>\n",
       "      <td>1184</td>\n",
       "    </tr>\n",
       "    <tr>\n",
       "      <th>5</th>\n",
       "      <td>27</td>\n",
       "      <td>553</td>\n",
       "      <td>1187</td>\n",
       "    </tr>\n",
       "    <tr>\n",
       "      <th>8</th>\n",
       "      <td>26</td>\n",
       "      <td>745</td>\n",
       "      <td>1147</td>\n",
       "    </tr>\n",
       "    <tr>\n",
       "      <th>29</th>\n",
       "      <td>26</td>\n",
       "      <td>507</td>\n",
       "      <td>1184</td>\n",
       "    </tr>\n",
       "    <tr>\n",
       "      <th>0</th>\n",
       "      <td>26</td>\n",
       "      <td>551</td>\n",
       "      <td>1152</td>\n",
       "    </tr>\n",
       "    <tr>\n",
       "      <th>3</th>\n",
       "      <td>26</td>\n",
       "      <td>507</td>\n",
       "      <td>1184</td>\n",
       "    </tr>\n",
       "    <tr>\n",
       "      <th>1</th>\n",
       "      <td>25</td>\n",
       "      <td>490</td>\n",
       "      <td>1152</td>\n",
       "    </tr>\n",
       "    <tr>\n",
       "      <th>6</th>\n",
       "      <td>20</td>\n",
       "      <td>752</td>\n",
       "      <td>1181</td>\n",
       "    </tr>\n",
       "  </tbody>\n",
       "</table>\n",
       "</div>"
      ],
      "text/plain": [
       "    rait  course1  course2\n",
       "4     32      745     1187\n",
       "28    27      752     1184\n",
       "2     27      752     1184\n",
       "5     27      553     1187\n",
       "8     26      745     1147\n",
       "29    26      507     1184\n",
       "0     26      551     1152\n",
       "3     26      507     1184\n",
       "1     25      490     1152\n",
       "6     20      752     1181"
      ]
     },
     "execution_count": 49,
     "metadata": {},
     "output_type": "execute_result"
    }
   ],
   "source": [
    "concat_df1 = pd.DataFrame() # напишу крутой скрипт, чтобы код был короче и покажу свой класс )))))\n",
    "for i in (main_list2 + main_list):\n",
    "    concat_df1 = pd.concat([concat_df1,x_counter_df[x_counter_df['course2'] == i].head(2)]).reset_index(drop=True)\n",
    "    \n",
    "concat_df1.sort_values('rait', ascending=False).head(10)"
   ]
  },
  {
   "cell_type": "markdown",
   "metadata": {},
   "source": [
    "#### Значения рейтинга не сильно велики, буду советовать два по популярности курса в качестве 1 и 2 рекомендаций (745,752)"
   ]
  },
  {
   "cell_type": "code",
   "execution_count": 50,
   "metadata": {},
   "outputs": [],
   "source": [
    "total_recommend_df = merge_df\n",
    "total_recommend_df['recommend_1'] = total_recommend_df['recommend_1'].apply(lambda x: 745 if x==0 else x)\n",
    "total_recommend_df['recommend_2'] = total_recommend_df['recommend_2'].apply(lambda x: 752 if x==0 else x)\n",
    "total_recommend_df = total_recommend_df.sort_values(by = 'main')"
   ]
  },
  {
   "cell_type": "code",
   "execution_count": 51,
   "metadata": {},
   "outputs": [
    {
     "name": "stdout",
     "output_type": "stream",
     "text": [
      "<class 'pandas.core.frame.DataFrame'>\n",
      "Int64Index: 126 entries, 32 to 123\n",
      "Data columns (total 3 columns):\n",
      " #   Column       Non-Null Count  Dtype\n",
      "---  ------       --------------  -----\n",
      " 0   main         126 non-null    int64\n",
      " 1   recommend_1  126 non-null    int64\n",
      " 2   recommend_2  126 non-null    int64\n",
      "dtypes: int64(3)\n",
      "memory usage: 3.9 KB\n"
     ]
    }
   ],
   "source": [
    "total_recommend_df['recommend_1'] = total_recommend_df['recommend_1'].astype('int64')\n",
    "total_recommend_df['recommend_2'] = total_recommend_df['recommend_2'].astype('int64') # почему-то тип заменился на флоат, сделаем красиво\n",
    "total_recommend_df.info()"
   ]
  },
  {
   "cell_type": "code",
   "execution_count": 52,
   "metadata": {},
   "outputs": [
    {
     "data": {
      "text/html": [
       "<div>\n",
       "<style scoped>\n",
       "    .dataframe tbody tr th:only-of-type {\n",
       "        vertical-align: middle;\n",
       "    }\n",
       "\n",
       "    .dataframe tbody tr th {\n",
       "        vertical-align: top;\n",
       "    }\n",
       "\n",
       "    .dataframe thead th {\n",
       "        text-align: right;\n",
       "    }\n",
       "</style>\n",
       "<table border=\"1\" class=\"dataframe\">\n",
       "  <thead>\n",
       "    <tr style=\"text-align: right;\">\n",
       "      <th></th>\n",
       "      <th>main</th>\n",
       "      <th>recommend_1</th>\n",
       "      <th>recommend_2</th>\n",
       "    </tr>\n",
       "  </thead>\n",
       "  <tbody>\n",
       "    <tr>\n",
       "      <th>32</th>\n",
       "      <td>356</td>\n",
       "      <td>571</td>\n",
       "      <td>357</td>\n",
       "    </tr>\n",
       "    <tr>\n",
       "      <th>31</th>\n",
       "      <td>357</td>\n",
       "      <td>571</td>\n",
       "      <td>1125</td>\n",
       "    </tr>\n",
       "    <tr>\n",
       "      <th>90</th>\n",
       "      <td>358</td>\n",
       "      <td>570</td>\n",
       "      <td>752</td>\n",
       "    </tr>\n",
       "    <tr>\n",
       "      <th>97</th>\n",
       "      <td>359</td>\n",
       "      <td>570</td>\n",
       "      <td>507</td>\n",
       "    </tr>\n",
       "    <tr>\n",
       "      <th>102</th>\n",
       "      <td>360</td>\n",
       "      <td>745</td>\n",
       "      <td>516</td>\n",
       "    </tr>\n",
       "    <tr>\n",
       "      <th>...</th>\n",
       "      <td>...</td>\n",
       "      <td>...</td>\n",
       "      <td>...</td>\n",
       "    </tr>\n",
       "    <tr>\n",
       "      <th>104</th>\n",
       "      <td>1188</td>\n",
       "      <td>745</td>\n",
       "      <td>752</td>\n",
       "    </tr>\n",
       "    <tr>\n",
       "      <th>115</th>\n",
       "      <td>1198</td>\n",
       "      <td>745</td>\n",
       "      <td>752</td>\n",
       "    </tr>\n",
       "    <tr>\n",
       "      <th>122</th>\n",
       "      <td>1199</td>\n",
       "      <td>745</td>\n",
       "      <td>752</td>\n",
       "    </tr>\n",
       "    <tr>\n",
       "      <th>125</th>\n",
       "      <td>1200</td>\n",
       "      <td>745</td>\n",
       "      <td>752</td>\n",
       "    </tr>\n",
       "    <tr>\n",
       "      <th>123</th>\n",
       "      <td>1201</td>\n",
       "      <td>745</td>\n",
       "      <td>752</td>\n",
       "    </tr>\n",
       "  </tbody>\n",
       "</table>\n",
       "<p>126 rows × 3 columns</p>\n",
       "</div>"
      ],
      "text/plain": [
       "     main  recommend_1  recommend_2\n",
       "32    356          571          357\n",
       "31    357          571         1125\n",
       "90    358          570          752\n",
       "97    359          570          507\n",
       "102   360          745          516\n",
       "..    ...          ...          ...\n",
       "104  1188          745          752\n",
       "115  1198          745          752\n",
       "122  1199          745          752\n",
       "125  1200          745          752\n",
       "123  1201          745          752\n",
       "\n",
       "[126 rows x 3 columns]"
      ]
     },
     "execution_count": 52,
     "metadata": {},
     "output_type": "execute_result"
    }
   ],
   "source": [
    "total_recommend_df"
   ]
  },
  {
   "cell_type": "markdown",
   "metadata": {},
   "source": [
    "#### Таблица с рекомендациями готова"
   ]
  },
  {
   "cell_type": "code",
   "execution_count": 53,
   "metadata": {},
   "outputs": [
    {
     "data": {
      "text/html": [
       "<div>\n",
       "<style scoped>\n",
       "    .dataframe tbody tr th:only-of-type {\n",
       "        vertical-align: middle;\n",
       "    }\n",
       "\n",
       "    .dataframe tbody tr th {\n",
       "        vertical-align: top;\n",
       "    }\n",
       "\n",
       "    .dataframe thead th {\n",
       "        text-align: right;\n",
       "    }\n",
       "</style>\n",
       "<table border=\"1\" class=\"dataframe\">\n",
       "  <thead>\n",
       "    <tr style=\"text-align: right;\">\n",
       "      <th></th>\n",
       "      <th>rait</th>\n",
       "      <th>course1</th>\n",
       "      <th>course2</th>\n",
       "    </tr>\n",
       "  </thead>\n",
       "  <tbody>\n",
       "    <tr>\n",
       "      <th>0</th>\n",
       "      <td>797</td>\n",
       "      <td>551</td>\n",
       "      <td>566</td>\n",
       "    </tr>\n",
       "    <tr>\n",
       "      <th>1</th>\n",
       "      <td>417</td>\n",
       "      <td>515</td>\n",
       "      <td>551</td>\n",
       "    </tr>\n",
       "    <tr>\n",
       "      <th>2</th>\n",
       "      <td>311</td>\n",
       "      <td>489</td>\n",
       "      <td>551</td>\n",
       "    </tr>\n",
       "    <tr>\n",
       "      <th>3</th>\n",
       "      <td>304</td>\n",
       "      <td>523</td>\n",
       "      <td>551</td>\n",
       "    </tr>\n",
       "    <tr>\n",
       "      <th>4</th>\n",
       "      <td>290</td>\n",
       "      <td>566</td>\n",
       "      <td>794</td>\n",
       "    </tr>\n",
       "    <tr>\n",
       "      <th>...</th>\n",
       "      <td>...</td>\n",
       "      <td>...</td>\n",
       "      <td>...</td>\n",
       "    </tr>\n",
       "    <tr>\n",
       "      <th>3984</th>\n",
       "      <td>1</td>\n",
       "      <td>741</td>\n",
       "      <td>791</td>\n",
       "    </tr>\n",
       "    <tr>\n",
       "      <th>3985</th>\n",
       "      <td>1</td>\n",
       "      <td>361</td>\n",
       "      <td>1128</td>\n",
       "    </tr>\n",
       "    <tr>\n",
       "      <th>3986</th>\n",
       "      <td>1</td>\n",
       "      <td>743</td>\n",
       "      <td>1156</td>\n",
       "    </tr>\n",
       "    <tr>\n",
       "      <th>3987</th>\n",
       "      <td>1</td>\n",
       "      <td>864</td>\n",
       "      <td>1129</td>\n",
       "    </tr>\n",
       "    <tr>\n",
       "      <th>3988</th>\n",
       "      <td>1</td>\n",
       "      <td>756</td>\n",
       "      <td>1185</td>\n",
       "    </tr>\n",
       "  </tbody>\n",
       "</table>\n",
       "<p>3989 rows × 3 columns</p>\n",
       "</div>"
      ],
      "text/plain": [
       "      rait  course1  course2\n",
       "0      797      551      566\n",
       "1      417      515      551\n",
       "2      311      489      551\n",
       "3      304      523      551\n",
       "4      290      566      794\n",
       "...    ...      ...      ...\n",
       "3984     1      741      791\n",
       "3985     1      361     1128\n",
       "3986     1      743     1156\n",
       "3987     1      864     1129\n",
       "3988     1      756     1185\n",
       "\n",
       "[3989 rows x 3 columns]"
      ]
     },
     "execution_count": 53,
     "metadata": {},
     "output_type": "execute_result"
    }
   ],
   "source": [
    "x_counter_df"
   ]
  },
  {
   "cell_type": "code",
   "execution_count": 54,
   "metadata": {},
   "outputs": [
    {
     "data": {
      "image/png": "[encoded data removed]",
      "text/plain": [
       "<Figure size 2500x500 with 1 Axes>"
      ]
     },
     "metadata": {},
     "output_type": "display_data"
    }
   ],
   "source": [
    "plt.figure(figsize=(25,5))\n",
    "sns.boxplot(data=x_counter_df, x='rait')\n",
    "plt.xlim([0,300])\n",
    "plt.xticks(range(0,300,10))\n",
    "plt.grid()"
   ]
  },
  {
   "cell_type": "markdown",
   "metadata": {},
   "source": [
    "## Комментарий о выборе минимальной границы для частотности рекомендаций \n",
    "#### я выбрал для первой рекомендации самую популярную пару курсов, а для второй - вторую. На графике видно, что большинство значений рейтинга пар курсов от 0 до 21 (примерно), считаю эти значения маленькими для рекомендаций и рекомендую использовать в качестве минимальной границы число 21"
   ]
  }
 ],
 "metadata": {
  "kernelspec": {
   "display_name": "Python 3.10.8 64-bit",
   "language": "python",
   "name": "python3"
  },
  "language_info": {
   "codemirror_mode": {
    "name": "ipython",
    "version": 3
   },
   "file_extension": ".py",
   "mimetype": "text/x-python",
   "name": "python",
   "nbconvert_exporter": "python",
   "pygments_lexer": "ipython3",
   "version": "3.10.8"
  },
  "orig_nbformat": 4,
  "vscode": {
   "interpreter": {
    "hash": "2332bbfa07c1fe30b281ddfa27db2880ae19303295470922ee052331d8c17f53"
   }
  }
 },
 "nbformat": 4,
 "nbformat_minor": 2
}
