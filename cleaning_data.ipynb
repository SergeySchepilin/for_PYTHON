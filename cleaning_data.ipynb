{
 "cells": [
  {
   "cell_type": "markdown",
   "metadata": {},
   "source": [
    "\n",
    "#  Загружаем и обрабатываем таблицы с кривыми данными.\n",
    "Таблицы букмекерской онлайн-конторы."
   ]
  },
  {
   "cell_type": "code",
   "execution_count": 19,
   "metadata": {},
   "outputs": [],
   "source": [
    "import pandas as pd\n",
    "\n",
    "log = pd.read_csv('E:\\Загрузки\\файлы для анализа\\cleaning_data/log.csv', header = None)\n",
    "users = pd.read_csv('E:\\Загрузки\\файлы для анализа\\cleaning_data/users.csv', encoding = \"koi8_r\", sep=\"\\t\")\n",
    "# именуем столбцы\n",
    "log.columns = ['user_id', 'time', 'bet', 'win']\n",
    "users.columns = ['user_id', 'email', 'geo']\n"
   ]
  },
  {
   "cell_type": "markdown",
   "metadata": {},
   "source": [
    "#  Изучаем данные"
   ]
  },
  {
   "cell_type": "code",
   "execution_count": 20,
   "metadata": {},
   "outputs": [
    {
     "name": "stdout",
     "output_type": "stream",
     "text": [
      "<class 'pandas.core.frame.DataFrame'>\n",
      "RangeIndex: 1000 entries, 0 to 999\n",
      "Data columns (total 4 columns):\n",
      " #   Column   Non-Null Count  Dtype  \n",
      "---  ------   --------------  -----  \n",
      " 0   user_id  1000 non-null   object \n",
      " 1   time     985 non-null    object \n",
      " 2   bet      485 non-null    float64\n",
      " 3   win      138 non-null    float64\n",
      "dtypes: float64(2), object(2)\n",
      "memory usage: 31.4+ KB\n"
     ]
    },
    {
     "data": {
      "text/plain": [
       "None"
      ]
     },
     "metadata": {},
     "output_type": "display_data"
    },
    {
     "data": {
      "text/plain": [
       "0      Запись пользователя № - user_919\n",
       "1      Запись пользователя № - user_973\n",
       "2      Запись пользователя № - user_903\n",
       "3      Запись пользователя № - user_954\n",
       "4      Запись пользователя № - user_954\n",
       "                     ...               \n",
       "995    Запись пользователя № - user_984\n",
       "996                              #error\n",
       "997                              #error\n",
       "998                              #error\n",
       "999                              #error\n",
       "Name: user_id, Length: 1000, dtype: object"
      ]
     },
     "metadata": {},
     "output_type": "display_data"
    }
   ],
   "source": [
    "display(log.info())\n",
    "display(log.user_id)"
   ]
  },
  {
   "cell_type": "markdown",
   "metadata": {},
   "source": [
    "# удаляем строки с ошибками и преобразовываем данные"
   ]
  },
  {
   "cell_type": "code",
   "execution_count": 21,
   "metadata": {},
   "outputs": [
    {
     "data": {
      "text/plain": [
       "0      user_919\n",
       "1      user_973\n",
       "2      user_903\n",
       "3      user_954\n",
       "4      user_954\n",
       "         ...   \n",
       "991    user_965\n",
       "992    user_967\n",
       "993    user_973\n",
       "994    user_977\n",
       "995    user_984\n",
       "Name: user_id, Length: 985, dtype: object"
      ]
     },
     "execution_count": 21,
     "metadata": {},
     "output_type": "execute_result"
    }
   ],
   "source": [
    "# шаг 1 - сначала уберём строки с ошибкой\n",
    "log = log[~log.user_id.str.contains('#error', na=False)]\n",
    "# шаг 2 - вырежем подстроку с id\n",
    "x = log.user_id[0].index('u')\n",
    "log.user_id = log.user_id.str.slice(x)\n",
    "log.user_id\n"
   ]
  },
  {
   "cell_type": "markdown",
   "metadata": {},
   "source": [
    "# шаг 3"
   ]
  },
  {
   "cell_type": "code",
   "execution_count": 22,
   "metadata": {},
   "outputs": [
    {
     "name": "stdout",
     "output_type": "stream",
     "text": [
      "0      [2019-01-01 14:06:51\n",
      "1      [2019-01-01 14:51:16\n",
      "2      [2019-01-01 16:31:16\n",
      "3      [2019-01-01 17:17:51\n",
      "4      [2019-01-01 21:31:18\n",
      "               ...         \n",
      "991    [2019-04-20 12:55:41\n",
      "992    [2019-04-20 14:59:36\n",
      "993    [2019-04-20 17:09:56\n",
      "994    [2019-04-20 18:10:07\n",
      "995     [2019-04-20 9:59:58\n",
      "Name: time, Length: 985, dtype: object кривое время\n",
      "<class 'pandas.core.frame.DataFrame'>\n",
      "Int64Index: 985 entries, 0 to 995\n",
      "Data columns (total 4 columns):\n",
      " #   Column   Non-Null Count  Dtype         \n",
      "---  ------   --------------  -----         \n",
      " 0   user_id  985 non-null    object        \n",
      " 1   time     985 non-null    datetime64[ns]\n",
      " 2   bet      472 non-null    float64       \n",
      " 3   win      133 non-null    float64       \n",
      "dtypes: datetime64[ns](1), float64(2), object(1)\n",
      "memory usage: 70.8+ KB\n"
     ]
    },
    {
     "data": {
      "text/plain": [
       "None"
      ]
     },
     "metadata": {},
     "output_type": "display_data"
    },
    {
     "data": {
      "text/html": [
       "<div>\n",
       "<style scoped>\n",
       "    .dataframe tbody tr th:only-of-type {\n",
       "        vertical-align: middle;\n",
       "    }\n",
       "\n",
       "    .dataframe tbody tr th {\n",
       "        vertical-align: top;\n",
       "    }\n",
       "\n",
       "    .dataframe thead th {\n",
       "        text-align: right;\n",
       "    }\n",
       "</style>\n",
       "<table border=\"1\" class=\"dataframe\">\n",
       "  <thead>\n",
       "    <tr style=\"text-align: right;\">\n",
       "      <th></th>\n",
       "      <th>user_id</th>\n",
       "      <th>time</th>\n",
       "      <th>bet</th>\n",
       "      <th>win</th>\n",
       "    </tr>\n",
       "  </thead>\n",
       "  <tbody>\n",
       "    <tr>\n",
       "      <th>0</th>\n",
       "      <td>user_919</td>\n",
       "      <td>2019-01-01 14:06:51</td>\n",
       "      <td>NaN</td>\n",
       "      <td>NaN</td>\n",
       "    </tr>\n",
       "    <tr>\n",
       "      <th>1</th>\n",
       "      <td>user_973</td>\n",
       "      <td>2019-01-01 14:51:16</td>\n",
       "      <td>NaN</td>\n",
       "      <td>NaN</td>\n",
       "    </tr>\n",
       "    <tr>\n",
       "      <th>2</th>\n",
       "      <td>user_903</td>\n",
       "      <td>2019-01-01 16:31:16</td>\n",
       "      <td>NaN</td>\n",
       "      <td>NaN</td>\n",
       "    </tr>\n",
       "    <tr>\n",
       "      <th>3</th>\n",
       "      <td>user_954</td>\n",
       "      <td>2019-01-01 17:17:51</td>\n",
       "      <td>NaN</td>\n",
       "      <td>NaN</td>\n",
       "    </tr>\n",
       "    <tr>\n",
       "      <th>4</th>\n",
       "      <td>user_954</td>\n",
       "      <td>2019-01-01 21:31:18</td>\n",
       "      <td>NaN</td>\n",
       "      <td>NaN</td>\n",
       "    </tr>\n",
       "    <tr>\n",
       "      <th>5</th>\n",
       "      <td>user_917</td>\n",
       "      <td>2019-01-01 23:34:55</td>\n",
       "      <td>156789.0</td>\n",
       "      <td>NaN</td>\n",
       "    </tr>\n",
       "    <tr>\n",
       "      <th>6</th>\n",
       "      <td>user_900</td>\n",
       "      <td>2019-01-01 04:37:25</td>\n",
       "      <td>NaN</td>\n",
       "      <td>NaN</td>\n",
       "    </tr>\n",
       "    <tr>\n",
       "      <th>7</th>\n",
       "      <td>user_980</td>\n",
       "      <td>2019-01-01 06:31:23</td>\n",
       "      <td>NaN</td>\n",
       "      <td>NaN</td>\n",
       "    </tr>\n",
       "    <tr>\n",
       "      <th>8</th>\n",
       "      <td>user_906</td>\n",
       "      <td>2019-01-02 10:57:08</td>\n",
       "      <td>NaN</td>\n",
       "      <td>NaN</td>\n",
       "    </tr>\n",
       "    <tr>\n",
       "      <th>9</th>\n",
       "      <td>user_952</td>\n",
       "      <td>2019-01-02 16:55:06</td>\n",
       "      <td>NaN</td>\n",
       "      <td>NaN</td>\n",
       "    </tr>\n",
       "    <tr>\n",
       "      <th>10</th>\n",
       "      <td>user_972</td>\n",
       "      <td>2019-01-02 20:47:54</td>\n",
       "      <td>NaN</td>\n",
       "      <td>NaN</td>\n",
       "    </tr>\n",
       "    <tr>\n",
       "      <th>11</th>\n",
       "      <td>user_966</td>\n",
       "      <td>2019-01-02 21:32:20</td>\n",
       "      <td>NaN</td>\n",
       "      <td>NaN</td>\n",
       "    </tr>\n",
       "    <tr>\n",
       "      <th>12</th>\n",
       "      <td>user_964</td>\n",
       "      <td>2019-01-02 21:32:35</td>\n",
       "      <td>NaN</td>\n",
       "      <td>NaN</td>\n",
       "    </tr>\n",
       "    <tr>\n",
       "      <th>13</th>\n",
       "      <td>user_978</td>\n",
       "      <td>2019-01-02 05:25:40</td>\n",
       "      <td>NaN</td>\n",
       "      <td>NaN</td>\n",
       "    </tr>\n",
       "    <tr>\n",
       "      <th>14</th>\n",
       "      <td>user_917</td>\n",
       "      <td>2019-01-02 08:57:36</td>\n",
       "      <td>145732.0</td>\n",
       "      <td>1987653.0</td>\n",
       "    </tr>\n",
       "  </tbody>\n",
       "</table>\n",
       "</div>"
      ],
      "text/plain": [
       "     user_id                time       bet        win\n",
       "0   user_919 2019-01-01 14:06:51       NaN        NaN\n",
       "1   user_973 2019-01-01 14:51:16       NaN        NaN\n",
       "2   user_903 2019-01-01 16:31:16       NaN        NaN\n",
       "3   user_954 2019-01-01 17:17:51       NaN        NaN\n",
       "4   user_954 2019-01-01 21:31:18       NaN        NaN\n",
       "5   user_917 2019-01-01 23:34:55  156789.0        NaN\n",
       "6   user_900 2019-01-01 04:37:25       NaN        NaN\n",
       "7   user_980 2019-01-01 06:31:23       NaN        NaN\n",
       "8   user_906 2019-01-02 10:57:08       NaN        NaN\n",
       "9   user_952 2019-01-02 16:55:06       NaN        NaN\n",
       "10  user_972 2019-01-02 20:47:54       NaN        NaN\n",
       "11  user_966 2019-01-02 21:32:20       NaN        NaN\n",
       "12  user_964 2019-01-02 21:32:35       NaN        NaN\n",
       "13  user_978 2019-01-02 05:25:40       NaN        NaN\n",
       "14  user_917 2019-01-02 08:57:36  145732.0  1987653.0"
      ]
     },
     "metadata": {},
     "output_type": "display_data"
    }
   ],
   "source": [
    "print(log.time, 'кривое время')\n",
    "log.time = log.time.str.slice(1) # убираем лишний символ\n",
    "log.time = pd.to_datetime(log.time) # преобразуем в формат даты\n",
    "display(log.info())\n",
    "display(log.head(15))\n"
   ]
  }
 ],
 "metadata": {
  "kernelspec": {
   "display_name": "Python 3.10.6 64-bit",
   "language": "python",
   "name": "python3"
  },
  "language_info": {
   "codemirror_mode": {
    "name": "ipython",
    "version": 3
   },
   "file_extension": ".py",
   "mimetype": "text/x-python",
   "name": "python",
   "nbconvert_exporter": "python",
   "pygments_lexer": "ipython3",
   "version": "3.10.6"
  },
  "orig_nbformat": 4,
  "vscode": {
   "interpreter": {
    "hash": "14092ea70d9477311b3ed0b56bd9b5b6835584962eff0538d401c254502001a2"
   }
  }
 },
 "nbformat": 4,
 "nbformat_minor": 2
}
